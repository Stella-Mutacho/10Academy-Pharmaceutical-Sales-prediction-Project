{
 "cells": [
  {
   "cell_type": "markdown",
   "metadata": {},
   "source": [
    "# EDA for Rossmann Pharmaceutical Sales prediction Project "
   ]
  },
  {
   "cell_type": "code",
   "execution_count": 2,
   "metadata": {},
   "outputs": [],
   "source": [
    "import pandas as pd\n",
    "import numpy as np\n",
    "import matplotlib.pyplot as plt\n",
    "import sklearn\n",
    "import statistics\n",
    "import warnings\n",
    "import seaborn as sns\n",
    "import random as rd\n",
    "import sys\n",
    "sys.path.append('../scripts')\n",
    "from eda_Read_data import ReadData\n",
    "from eda_cleaning_data import Cleaning_excel_data\n",
    "from eda_plot import Plot\n",
    "# Importing the SimpleImputer class from sklearn\n",
    "from sklearn.impute import SimpleImputer"
   ]
  },
  {
   "cell_type": "markdown",
   "metadata": {},
   "source": [
    "### Importing Data"
   ]
  },
  {
   "cell_type": "code",
   "execution_count": 3,
   "metadata": {},
   "outputs": [
    {
     "data": {
      "text/html": [
       "<div>\n",
       "<style scoped>\n",
       "    .dataframe tbody tr th:only-of-type {\n",
       "        vertical-align: middle;\n",
       "    }\n",
       "\n",
       "    .dataframe tbody tr th {\n",
       "        vertical-align: top;\n",
       "    }\n",
       "\n",
       "    .dataframe thead th {\n",
       "        text-align: right;\n",
       "    }\n",
       "</style>\n",
       "<table border=\"1\" class=\"dataframe\">\n",
       "  <thead>\n",
       "    <tr style=\"text-align: right;\">\n",
       "      <th></th>\n",
       "      <th>Id</th>\n",
       "      <th>Sales</th>\n",
       "    </tr>\n",
       "  </thead>\n",
       "  <tbody>\n",
       "    <tr>\n",
       "      <th>0</th>\n",
       "      <td>1</td>\n",
       "      <td>0</td>\n",
       "    </tr>\n",
       "    <tr>\n",
       "      <th>1</th>\n",
       "      <td>2</td>\n",
       "      <td>0</td>\n",
       "    </tr>\n",
       "    <tr>\n",
       "      <th>2</th>\n",
       "      <td>3</td>\n",
       "      <td>0</td>\n",
       "    </tr>\n",
       "    <tr>\n",
       "      <th>3</th>\n",
       "      <td>4</td>\n",
       "      <td>0</td>\n",
       "    </tr>\n",
       "    <tr>\n",
       "      <th>4</th>\n",
       "      <td>5</td>\n",
       "      <td>0</td>\n",
       "    </tr>\n",
       "  </tbody>\n",
       "</table>\n",
       "</div>"
      ],
      "text/plain": [
       "   Id  Sales\n",
       "0   1      0\n",
       "1   2      0\n",
       "2   3      0\n",
       "3   4      0\n",
       "4   5      0"
      ]
     },
     "execution_count": 3,
     "metadata": {},
     "output_type": "execute_result"
    }
   ],
   "source": [
    "loader = ReadData()\n",
    "sample_df = loader.read_csv('../data/sample_submission.csv')\n",
    "sample_df.head()"
   ]
  },
  {
   "cell_type": "code",
   "execution_count": 9,
   "metadata": {},
   "outputs": [
    {
     "data": {
      "text/html": [
       "<div>\n",
       "<style scoped>\n",
       "    .dataframe tbody tr th:only-of-type {\n",
       "        vertical-align: middle;\n",
       "    }\n",
       "\n",
       "    .dataframe tbody tr th {\n",
       "        vertical-align: top;\n",
       "    }\n",
       "\n",
       "    .dataframe thead th {\n",
       "        text-align: right;\n",
       "    }\n",
       "</style>\n",
       "<table border=\"1\" class=\"dataframe\">\n",
       "  <thead>\n",
       "    <tr style=\"text-align: right;\">\n",
       "      <th></th>\n",
       "      <th>Store</th>\n",
       "      <th>StoreType</th>\n",
       "      <th>Assortment</th>\n",
       "      <th>CompetitionDistance</th>\n",
       "      <th>CompetitionOpenSinceMonth</th>\n",
       "      <th>CompetitionOpenSinceYear</th>\n",
       "      <th>Promo2</th>\n",
       "      <th>Promo2SinceWeek</th>\n",
       "      <th>Promo2SinceYear</th>\n",
       "      <th>PromoInterval</th>\n",
       "    </tr>\n",
       "  </thead>\n",
       "  <tbody>\n",
       "    <tr>\n",
       "      <th>0</th>\n",
       "      <td>1</td>\n",
       "      <td>c</td>\n",
       "      <td>a</td>\n",
       "      <td>1270.0</td>\n",
       "      <td>9.0</td>\n",
       "      <td>2008.0</td>\n",
       "      <td>0</td>\n",
       "      <td>NaN</td>\n",
       "      <td>NaN</td>\n",
       "      <td>NaN</td>\n",
       "    </tr>\n",
       "    <tr>\n",
       "      <th>1</th>\n",
       "      <td>2</td>\n",
       "      <td>a</td>\n",
       "      <td>a</td>\n",
       "      <td>570.0</td>\n",
       "      <td>11.0</td>\n",
       "      <td>2007.0</td>\n",
       "      <td>1</td>\n",
       "      <td>13.0</td>\n",
       "      <td>2010.0</td>\n",
       "      <td>Jan,Apr,Jul,Oct</td>\n",
       "    </tr>\n",
       "    <tr>\n",
       "      <th>2</th>\n",
       "      <td>3</td>\n",
       "      <td>a</td>\n",
       "      <td>a</td>\n",
       "      <td>14130.0</td>\n",
       "      <td>12.0</td>\n",
       "      <td>2006.0</td>\n",
       "      <td>1</td>\n",
       "      <td>14.0</td>\n",
       "      <td>2011.0</td>\n",
       "      <td>Jan,Apr,Jul,Oct</td>\n",
       "    </tr>\n",
       "    <tr>\n",
       "      <th>3</th>\n",
       "      <td>4</td>\n",
       "      <td>c</td>\n",
       "      <td>c</td>\n",
       "      <td>620.0</td>\n",
       "      <td>9.0</td>\n",
       "      <td>2009.0</td>\n",
       "      <td>0</td>\n",
       "      <td>NaN</td>\n",
       "      <td>NaN</td>\n",
       "      <td>NaN</td>\n",
       "    </tr>\n",
       "    <tr>\n",
       "      <th>4</th>\n",
       "      <td>5</td>\n",
       "      <td>a</td>\n",
       "      <td>a</td>\n",
       "      <td>29910.0</td>\n",
       "      <td>4.0</td>\n",
       "      <td>2015.0</td>\n",
       "      <td>0</td>\n",
       "      <td>NaN</td>\n",
       "      <td>NaN</td>\n",
       "      <td>NaN</td>\n",
       "    </tr>\n",
       "  </tbody>\n",
       "</table>\n",
       "</div>"
      ],
      "text/plain": [
       "   Store StoreType Assortment  CompetitionDistance  CompetitionOpenSinceMonth  \\\n",
       "0      1         c          a               1270.0                        9.0   \n",
       "1      2         a          a                570.0                       11.0   \n",
       "2      3         a          a              14130.0                       12.0   \n",
       "3      4         c          c                620.0                        9.0   \n",
       "4      5         a          a              29910.0                        4.0   \n",
       "\n",
       "   CompetitionOpenSinceYear  Promo2  Promo2SinceWeek  Promo2SinceYear  \\\n",
       "0                    2008.0       0              NaN              NaN   \n",
       "1                    2007.0       1             13.0           2010.0   \n",
       "2                    2006.0       1             14.0           2011.0   \n",
       "3                    2009.0       0              NaN              NaN   \n",
       "4                    2015.0       0              NaN              NaN   \n",
       "\n",
       "     PromoInterval  \n",
       "0              NaN  \n",
       "1  Jan,Apr,Jul,Oct  \n",
       "2  Jan,Apr,Jul,Oct  \n",
       "3              NaN  \n",
       "4              NaN  "
      ]
     },
     "execution_count": 9,
     "metadata": {},
     "output_type": "execute_result"
    }
   ],
   "source": [
    "store_df = loader.read_csv('../data/store.csv')\n",
    "store_df.head()"
   ]
  },
  {
   "cell_type": "code",
   "execution_count": 4,
   "metadata": {},
   "outputs": [
    {
     "data": {
      "text/html": [
       "<div>\n",
       "<style scoped>\n",
       "    .dataframe tbody tr th:only-of-type {\n",
       "        vertical-align: middle;\n",
       "    }\n",
       "\n",
       "    .dataframe tbody tr th {\n",
       "        vertical-align: top;\n",
       "    }\n",
       "\n",
       "    .dataframe thead th {\n",
       "        text-align: right;\n",
       "    }\n",
       "</style>\n",
       "<table border=\"1\" class=\"dataframe\">\n",
       "  <thead>\n",
       "    <tr style=\"text-align: right;\">\n",
       "      <th></th>\n",
       "      <th>Id</th>\n",
       "      <th>Store</th>\n",
       "      <th>DayOfWeek</th>\n",
       "      <th>Date</th>\n",
       "      <th>Open</th>\n",
       "      <th>Promo</th>\n",
       "      <th>StateHoliday</th>\n",
       "      <th>SchoolHoliday</th>\n",
       "    </tr>\n",
       "  </thead>\n",
       "  <tbody>\n",
       "    <tr>\n",
       "      <th>0</th>\n",
       "      <td>1</td>\n",
       "      <td>1</td>\n",
       "      <td>4</td>\n",
       "      <td>2015-09-17</td>\n",
       "      <td>1.0</td>\n",
       "      <td>1</td>\n",
       "      <td>0</td>\n",
       "      <td>0</td>\n",
       "    </tr>\n",
       "    <tr>\n",
       "      <th>1</th>\n",
       "      <td>2</td>\n",
       "      <td>3</td>\n",
       "      <td>4</td>\n",
       "      <td>2015-09-17</td>\n",
       "      <td>1.0</td>\n",
       "      <td>1</td>\n",
       "      <td>0</td>\n",
       "      <td>0</td>\n",
       "    </tr>\n",
       "    <tr>\n",
       "      <th>2</th>\n",
       "      <td>3</td>\n",
       "      <td>7</td>\n",
       "      <td>4</td>\n",
       "      <td>2015-09-17</td>\n",
       "      <td>1.0</td>\n",
       "      <td>1</td>\n",
       "      <td>0</td>\n",
       "      <td>0</td>\n",
       "    </tr>\n",
       "    <tr>\n",
       "      <th>3</th>\n",
       "      <td>4</td>\n",
       "      <td>8</td>\n",
       "      <td>4</td>\n",
       "      <td>2015-09-17</td>\n",
       "      <td>1.0</td>\n",
       "      <td>1</td>\n",
       "      <td>0</td>\n",
       "      <td>0</td>\n",
       "    </tr>\n",
       "    <tr>\n",
       "      <th>4</th>\n",
       "      <td>5</td>\n",
       "      <td>9</td>\n",
       "      <td>4</td>\n",
       "      <td>2015-09-17</td>\n",
       "      <td>1.0</td>\n",
       "      <td>1</td>\n",
       "      <td>0</td>\n",
       "      <td>0</td>\n",
       "    </tr>\n",
       "  </tbody>\n",
       "</table>\n",
       "</div>"
      ],
      "text/plain": [
       "   Id  Store  DayOfWeek        Date  Open  Promo StateHoliday  SchoolHoliday\n",
       "0   1      1          4  2015-09-17   1.0      1            0              0\n",
       "1   2      3          4  2015-09-17   1.0      1            0              0\n",
       "2   3      7          4  2015-09-17   1.0      1            0              0\n",
       "3   4      8          4  2015-09-17   1.0      1            0              0\n",
       "4   5      9          4  2015-09-17   1.0      1            0              0"
      ]
     },
     "execution_count": 4,
     "metadata": {},
     "output_type": "execute_result"
    }
   ],
   "source": [
    "test_df = loader.read_csv('../data/test.csv')\n",
    "test_df.head()"
   ]
  },
  {
   "cell_type": "code",
   "execution_count": 5,
   "metadata": {},
   "outputs": [
    {
     "name": "stderr",
     "output_type": "stream",
     "text": [
      "c:\\Users\\Stella\\Desktop\\Week 3\\10Academy-Pharmaceutical-Sales-prediction-Project\\notebooks\\../scripts\\eda_Read_data.py:44: DtypeWarning: Columns (7) have mixed types. Specify dtype option on import or set low_memory=False.\n",
      "  data = pd.read_csv(csv_file)\n"
     ]
    },
    {
     "data": {
      "text/html": [
       "<div>\n",
       "<style scoped>\n",
       "    .dataframe tbody tr th:only-of-type {\n",
       "        vertical-align: middle;\n",
       "    }\n",
       "\n",
       "    .dataframe tbody tr th {\n",
       "        vertical-align: top;\n",
       "    }\n",
       "\n",
       "    .dataframe thead th {\n",
       "        text-align: right;\n",
       "    }\n",
       "</style>\n",
       "<table border=\"1\" class=\"dataframe\">\n",
       "  <thead>\n",
       "    <tr style=\"text-align: right;\">\n",
       "      <th></th>\n",
       "      <th>Store</th>\n",
       "      <th>DayOfWeek</th>\n",
       "      <th>Date</th>\n",
       "      <th>Sales</th>\n",
       "      <th>Customers</th>\n",
       "      <th>Open</th>\n",
       "      <th>Promo</th>\n",
       "      <th>StateHoliday</th>\n",
       "      <th>SchoolHoliday</th>\n",
       "    </tr>\n",
       "  </thead>\n",
       "  <tbody>\n",
       "    <tr>\n",
       "      <th>0</th>\n",
       "      <td>1</td>\n",
       "      <td>5</td>\n",
       "      <td>2015-07-31</td>\n",
       "      <td>5263</td>\n",
       "      <td>555</td>\n",
       "      <td>1</td>\n",
       "      <td>1</td>\n",
       "      <td>0</td>\n",
       "      <td>1</td>\n",
       "    </tr>\n",
       "    <tr>\n",
       "      <th>1</th>\n",
       "      <td>2</td>\n",
       "      <td>5</td>\n",
       "      <td>2015-07-31</td>\n",
       "      <td>6064</td>\n",
       "      <td>625</td>\n",
       "      <td>1</td>\n",
       "      <td>1</td>\n",
       "      <td>0</td>\n",
       "      <td>1</td>\n",
       "    </tr>\n",
       "    <tr>\n",
       "      <th>2</th>\n",
       "      <td>3</td>\n",
       "      <td>5</td>\n",
       "      <td>2015-07-31</td>\n",
       "      <td>8314</td>\n",
       "      <td>821</td>\n",
       "      <td>1</td>\n",
       "      <td>1</td>\n",
       "      <td>0</td>\n",
       "      <td>1</td>\n",
       "    </tr>\n",
       "    <tr>\n",
       "      <th>3</th>\n",
       "      <td>4</td>\n",
       "      <td>5</td>\n",
       "      <td>2015-07-31</td>\n",
       "      <td>13995</td>\n",
       "      <td>1498</td>\n",
       "      <td>1</td>\n",
       "      <td>1</td>\n",
       "      <td>0</td>\n",
       "      <td>1</td>\n",
       "    </tr>\n",
       "    <tr>\n",
       "      <th>4</th>\n",
       "      <td>5</td>\n",
       "      <td>5</td>\n",
       "      <td>2015-07-31</td>\n",
       "      <td>4822</td>\n",
       "      <td>559</td>\n",
       "      <td>1</td>\n",
       "      <td>1</td>\n",
       "      <td>0</td>\n",
       "      <td>1</td>\n",
       "    </tr>\n",
       "  </tbody>\n",
       "</table>\n",
       "</div>"
      ],
      "text/plain": [
       "   Store  DayOfWeek        Date  Sales  Customers  Open  Promo StateHoliday  \\\n",
       "0      1          5  2015-07-31   5263        555     1      1            0   \n",
       "1      2          5  2015-07-31   6064        625     1      1            0   \n",
       "2      3          5  2015-07-31   8314        821     1      1            0   \n",
       "3      4          5  2015-07-31  13995       1498     1      1            0   \n",
       "4      5          5  2015-07-31   4822        559     1      1            0   \n",
       "\n",
       "   SchoolHoliday  \n",
       "0              1  \n",
       "1              1  \n",
       "2              1  \n",
       "3              1  \n",
       "4              1  "
      ]
     },
     "execution_count": 5,
     "metadata": {},
     "output_type": "execute_result"
    }
   ],
   "source": [
    "train_df = loader.read_csv('../data/train.csv')\n",
    "train_df.head()"
   ]
  },
  {
   "cell_type": "code",
   "execution_count": 10,
   "metadata": {},
   "outputs": [],
   "source": [
    "train_store = pd.merge(train_df, store_df, how = 'left', on = \"Store\")\n",
    "test_store = pd.merge(test_df, store_df, how = 'left', on = \"Store\")"
   ]
  },
  {
   "cell_type": "code",
   "execution_count": 11,
   "metadata": {},
   "outputs": [
    {
     "data": {
      "text/html": [
       "<div>\n",
       "<style scoped>\n",
       "    .dataframe tbody tr th:only-of-type {\n",
       "        vertical-align: middle;\n",
       "    }\n",
       "\n",
       "    .dataframe tbody tr th {\n",
       "        vertical-align: top;\n",
       "    }\n",
       "\n",
       "    .dataframe thead th {\n",
       "        text-align: right;\n",
       "    }\n",
       "</style>\n",
       "<table border=\"1\" class=\"dataframe\">\n",
       "  <thead>\n",
       "    <tr style=\"text-align: right;\">\n",
       "      <th></th>\n",
       "      <th>Store</th>\n",
       "      <th>DayOfWeek</th>\n",
       "      <th>Date</th>\n",
       "      <th>Sales</th>\n",
       "      <th>Customers</th>\n",
       "      <th>Open</th>\n",
       "      <th>Promo</th>\n",
       "      <th>StateHoliday</th>\n",
       "      <th>SchoolHoliday</th>\n",
       "      <th>StoreType</th>\n",
       "      <th>Assortment</th>\n",
       "      <th>CompetitionDistance</th>\n",
       "      <th>CompetitionOpenSinceMonth</th>\n",
       "      <th>CompetitionOpenSinceYear</th>\n",
       "      <th>Promo2</th>\n",
       "      <th>Promo2SinceWeek</th>\n",
       "      <th>Promo2SinceYear</th>\n",
       "      <th>PromoInterval</th>\n",
       "    </tr>\n",
       "  </thead>\n",
       "  <tbody>\n",
       "    <tr>\n",
       "      <th>0</th>\n",
       "      <td>1</td>\n",
       "      <td>5</td>\n",
       "      <td>2015-07-31</td>\n",
       "      <td>5263</td>\n",
       "      <td>555</td>\n",
       "      <td>1</td>\n",
       "      <td>1</td>\n",
       "      <td>0</td>\n",
       "      <td>1</td>\n",
       "      <td>c</td>\n",
       "      <td>a</td>\n",
       "      <td>1270.0</td>\n",
       "      <td>9.0</td>\n",
       "      <td>2008.0</td>\n",
       "      <td>0</td>\n",
       "      <td>NaN</td>\n",
       "      <td>NaN</td>\n",
       "      <td>NaN</td>\n",
       "    </tr>\n",
       "    <tr>\n",
       "      <th>1</th>\n",
       "      <td>2</td>\n",
       "      <td>5</td>\n",
       "      <td>2015-07-31</td>\n",
       "      <td>6064</td>\n",
       "      <td>625</td>\n",
       "      <td>1</td>\n",
       "      <td>1</td>\n",
       "      <td>0</td>\n",
       "      <td>1</td>\n",
       "      <td>a</td>\n",
       "      <td>a</td>\n",
       "      <td>570.0</td>\n",
       "      <td>11.0</td>\n",
       "      <td>2007.0</td>\n",
       "      <td>1</td>\n",
       "      <td>13.0</td>\n",
       "      <td>2010.0</td>\n",
       "      <td>Jan,Apr,Jul,Oct</td>\n",
       "    </tr>\n",
       "    <tr>\n",
       "      <th>2</th>\n",
       "      <td>3</td>\n",
       "      <td>5</td>\n",
       "      <td>2015-07-31</td>\n",
       "      <td>8314</td>\n",
       "      <td>821</td>\n",
       "      <td>1</td>\n",
       "      <td>1</td>\n",
       "      <td>0</td>\n",
       "      <td>1</td>\n",
       "      <td>a</td>\n",
       "      <td>a</td>\n",
       "      <td>14130.0</td>\n",
       "      <td>12.0</td>\n",
       "      <td>2006.0</td>\n",
       "      <td>1</td>\n",
       "      <td>14.0</td>\n",
       "      <td>2011.0</td>\n",
       "      <td>Jan,Apr,Jul,Oct</td>\n",
       "    </tr>\n",
       "    <tr>\n",
       "      <th>3</th>\n",
       "      <td>4</td>\n",
       "      <td>5</td>\n",
       "      <td>2015-07-31</td>\n",
       "      <td>13995</td>\n",
       "      <td>1498</td>\n",
       "      <td>1</td>\n",
       "      <td>1</td>\n",
       "      <td>0</td>\n",
       "      <td>1</td>\n",
       "      <td>c</td>\n",
       "      <td>c</td>\n",
       "      <td>620.0</td>\n",
       "      <td>9.0</td>\n",
       "      <td>2009.0</td>\n",
       "      <td>0</td>\n",
       "      <td>NaN</td>\n",
       "      <td>NaN</td>\n",
       "      <td>NaN</td>\n",
       "    </tr>\n",
       "    <tr>\n",
       "      <th>4</th>\n",
       "      <td>5</td>\n",
       "      <td>5</td>\n",
       "      <td>2015-07-31</td>\n",
       "      <td>4822</td>\n",
       "      <td>559</td>\n",
       "      <td>1</td>\n",
       "      <td>1</td>\n",
       "      <td>0</td>\n",
       "      <td>1</td>\n",
       "      <td>a</td>\n",
       "      <td>a</td>\n",
       "      <td>29910.0</td>\n",
       "      <td>4.0</td>\n",
       "      <td>2015.0</td>\n",
       "      <td>0</td>\n",
       "      <td>NaN</td>\n",
       "      <td>NaN</td>\n",
       "      <td>NaN</td>\n",
       "    </tr>\n",
       "  </tbody>\n",
       "</table>\n",
       "</div>"
      ],
      "text/plain": [
       "   Store  DayOfWeek        Date  Sales  Customers  Open  Promo StateHoliday  \\\n",
       "0      1          5  2015-07-31   5263        555     1      1            0   \n",
       "1      2          5  2015-07-31   6064        625     1      1            0   \n",
       "2      3          5  2015-07-31   8314        821     1      1            0   \n",
       "3      4          5  2015-07-31  13995       1498     1      1            0   \n",
       "4      5          5  2015-07-31   4822        559     1      1            0   \n",
       "\n",
       "   SchoolHoliday StoreType Assortment  CompetitionDistance  \\\n",
       "0              1         c          a               1270.0   \n",
       "1              1         a          a                570.0   \n",
       "2              1         a          a              14130.0   \n",
       "3              1         c          c                620.0   \n",
       "4              1         a          a              29910.0   \n",
       "\n",
       "   CompetitionOpenSinceMonth  CompetitionOpenSinceYear  Promo2  \\\n",
       "0                        9.0                    2008.0       0   \n",
       "1                       11.0                    2007.0       1   \n",
       "2                       12.0                    2006.0       1   \n",
       "3                        9.0                    2009.0       0   \n",
       "4                        4.0                    2015.0       0   \n",
       "\n",
       "   Promo2SinceWeek  Promo2SinceYear    PromoInterval  \n",
       "0              NaN              NaN              NaN  \n",
       "1             13.0           2010.0  Jan,Apr,Jul,Oct  \n",
       "2             14.0           2011.0  Jan,Apr,Jul,Oct  \n",
       "3              NaN              NaN              NaN  \n",
       "4              NaN              NaN              NaN  "
      ]
     },
     "execution_count": 11,
     "metadata": {},
     "output_type": "execute_result"
    }
   ],
   "source": [
    "train_store.head()"
   ]
  },
  {
   "cell_type": "code",
   "execution_count": 12,
   "metadata": {},
   "outputs": [
    {
     "data": {
      "text/html": [
       "<div>\n",
       "<style scoped>\n",
       "    .dataframe tbody tr th:only-of-type {\n",
       "        vertical-align: middle;\n",
       "    }\n",
       "\n",
       "    .dataframe tbody tr th {\n",
       "        vertical-align: top;\n",
       "    }\n",
       "\n",
       "    .dataframe thead th {\n",
       "        text-align: right;\n",
       "    }\n",
       "</style>\n",
       "<table border=\"1\" class=\"dataframe\">\n",
       "  <thead>\n",
       "    <tr style=\"text-align: right;\">\n",
       "      <th></th>\n",
       "      <th>Id</th>\n",
       "      <th>Store</th>\n",
       "      <th>DayOfWeek</th>\n",
       "      <th>Date</th>\n",
       "      <th>Open</th>\n",
       "      <th>Promo</th>\n",
       "      <th>StateHoliday</th>\n",
       "      <th>SchoolHoliday</th>\n",
       "      <th>StoreType</th>\n",
       "      <th>Assortment</th>\n",
       "      <th>CompetitionDistance</th>\n",
       "      <th>CompetitionOpenSinceMonth</th>\n",
       "      <th>CompetitionOpenSinceYear</th>\n",
       "      <th>Promo2</th>\n",
       "      <th>Promo2SinceWeek</th>\n",
       "      <th>Promo2SinceYear</th>\n",
       "      <th>PromoInterval</th>\n",
       "    </tr>\n",
       "  </thead>\n",
       "  <tbody>\n",
       "    <tr>\n",
       "      <th>0</th>\n",
       "      <td>1</td>\n",
       "      <td>1</td>\n",
       "      <td>4</td>\n",
       "      <td>2015-09-17</td>\n",
       "      <td>1.0</td>\n",
       "      <td>1</td>\n",
       "      <td>0</td>\n",
       "      <td>0</td>\n",
       "      <td>c</td>\n",
       "      <td>a</td>\n",
       "      <td>1270.0</td>\n",
       "      <td>9.0</td>\n",
       "      <td>2008.0</td>\n",
       "      <td>0</td>\n",
       "      <td>NaN</td>\n",
       "      <td>NaN</td>\n",
       "      <td>NaN</td>\n",
       "    </tr>\n",
       "    <tr>\n",
       "      <th>1</th>\n",
       "      <td>2</td>\n",
       "      <td>3</td>\n",
       "      <td>4</td>\n",
       "      <td>2015-09-17</td>\n",
       "      <td>1.0</td>\n",
       "      <td>1</td>\n",
       "      <td>0</td>\n",
       "      <td>0</td>\n",
       "      <td>a</td>\n",
       "      <td>a</td>\n",
       "      <td>14130.0</td>\n",
       "      <td>12.0</td>\n",
       "      <td>2006.0</td>\n",
       "      <td>1</td>\n",
       "      <td>14.0</td>\n",
       "      <td>2011.0</td>\n",
       "      <td>Jan,Apr,Jul,Oct</td>\n",
       "    </tr>\n",
       "    <tr>\n",
       "      <th>2</th>\n",
       "      <td>3</td>\n",
       "      <td>7</td>\n",
       "      <td>4</td>\n",
       "      <td>2015-09-17</td>\n",
       "      <td>1.0</td>\n",
       "      <td>1</td>\n",
       "      <td>0</td>\n",
       "      <td>0</td>\n",
       "      <td>a</td>\n",
       "      <td>c</td>\n",
       "      <td>24000.0</td>\n",
       "      <td>4.0</td>\n",
       "      <td>2013.0</td>\n",
       "      <td>0</td>\n",
       "      <td>NaN</td>\n",
       "      <td>NaN</td>\n",
       "      <td>NaN</td>\n",
       "    </tr>\n",
       "    <tr>\n",
       "      <th>3</th>\n",
       "      <td>4</td>\n",
       "      <td>8</td>\n",
       "      <td>4</td>\n",
       "      <td>2015-09-17</td>\n",
       "      <td>1.0</td>\n",
       "      <td>1</td>\n",
       "      <td>0</td>\n",
       "      <td>0</td>\n",
       "      <td>a</td>\n",
       "      <td>a</td>\n",
       "      <td>7520.0</td>\n",
       "      <td>10.0</td>\n",
       "      <td>2014.0</td>\n",
       "      <td>0</td>\n",
       "      <td>NaN</td>\n",
       "      <td>NaN</td>\n",
       "      <td>NaN</td>\n",
       "    </tr>\n",
       "    <tr>\n",
       "      <th>4</th>\n",
       "      <td>5</td>\n",
       "      <td>9</td>\n",
       "      <td>4</td>\n",
       "      <td>2015-09-17</td>\n",
       "      <td>1.0</td>\n",
       "      <td>1</td>\n",
       "      <td>0</td>\n",
       "      <td>0</td>\n",
       "      <td>a</td>\n",
       "      <td>c</td>\n",
       "      <td>2030.0</td>\n",
       "      <td>8.0</td>\n",
       "      <td>2000.0</td>\n",
       "      <td>0</td>\n",
       "      <td>NaN</td>\n",
       "      <td>NaN</td>\n",
       "      <td>NaN</td>\n",
       "    </tr>\n",
       "  </tbody>\n",
       "</table>\n",
       "</div>"
      ],
      "text/plain": [
       "   Id  Store  DayOfWeek        Date  Open  Promo StateHoliday  SchoolHoliday  \\\n",
       "0   1      1          4  2015-09-17   1.0      1            0              0   \n",
       "1   2      3          4  2015-09-17   1.0      1            0              0   \n",
       "2   3      7          4  2015-09-17   1.0      1            0              0   \n",
       "3   4      8          4  2015-09-17   1.0      1            0              0   \n",
       "4   5      9          4  2015-09-17   1.0      1            0              0   \n",
       "\n",
       "  StoreType Assortment  CompetitionDistance  CompetitionOpenSinceMonth  \\\n",
       "0         c          a               1270.0                        9.0   \n",
       "1         a          a              14130.0                       12.0   \n",
       "2         a          c              24000.0                        4.0   \n",
       "3         a          a               7520.0                       10.0   \n",
       "4         a          c               2030.0                        8.0   \n",
       "\n",
       "   CompetitionOpenSinceYear  Promo2  Promo2SinceWeek  Promo2SinceYear  \\\n",
       "0                    2008.0       0              NaN              NaN   \n",
       "1                    2006.0       1             14.0           2011.0   \n",
       "2                    2013.0       0              NaN              NaN   \n",
       "3                    2014.0       0              NaN              NaN   \n",
       "4                    2000.0       0              NaN              NaN   \n",
       "\n",
       "     PromoInterval  \n",
       "0              NaN  \n",
       "1  Jan,Apr,Jul,Oct  \n",
       "2              NaN  \n",
       "3              NaN  \n",
       "4              NaN  "
      ]
     },
     "execution_count": 12,
     "metadata": {},
     "output_type": "execute_result"
    }
   ],
   "source": [
    "test_store.head()"
   ]
  },
  {
   "cell_type": "markdown",
   "metadata": {},
   "source": [
    "### Investigating the data"
   ]
  },
  {
   "cell_type": "code",
   "execution_count": 9,
   "metadata": {},
   "outputs": [
    {
     "data": {
      "text/plain": [
       "Id                             int64\n",
       "Store                          int64\n",
       "DayOfWeek                      int64\n",
       "Date                          object\n",
       "Open                         float64\n",
       "Promo                          int64\n",
       "StateHoliday                  object\n",
       "SchoolHoliday                  int64\n",
       "StoreType                     object\n",
       "Assortment                    object\n",
       "CompetitionDistance          float64\n",
       "CompetitionOpenSinceMonth    float64\n",
       "CompetitionOpenSinceYear     float64\n",
       "Promo2                         int64\n",
       "Promo2SinceWeek              float64\n",
       "Promo2SinceYear              float64\n",
       "PromoInterval                 object\n",
       "dtype: object"
      ]
     },
     "execution_count": 9,
     "metadata": {},
     "output_type": "execute_result"
    }
   ],
   "source": [
    "#To show data types of each row\n",
    "test_store.dtypes"
   ]
  },
  {
   "cell_type": "code",
   "execution_count": 10,
   "metadata": {},
   "outputs": [
    {
     "data": {
      "text/plain": [
       "Store                          int64\n",
       "DayOfWeek                      int64\n",
       "Date                          object\n",
       "Sales                          int64\n",
       "Customers                      int64\n",
       "Open                           int64\n",
       "Promo                          int64\n",
       "StateHoliday                  object\n",
       "SchoolHoliday                  int64\n",
       "StoreType                     object\n",
       "Assortment                    object\n",
       "CompetitionDistance          float64\n",
       "CompetitionOpenSinceMonth    float64\n",
       "CompetitionOpenSinceYear     float64\n",
       "Promo2                         int64\n",
       "Promo2SinceWeek              float64\n",
       "Promo2SinceYear              float64\n",
       "PromoInterval                 object\n",
       "dtype: object"
      ]
     },
     "execution_count": 10,
     "metadata": {},
     "output_type": "execute_result"
    }
   ],
   "source": [
    "#To show data types of each row\n",
    "train_store.dtypes"
   ]
  },
  {
   "cell_type": "code",
   "execution_count": 11,
   "metadata": {},
   "outputs": [
    {
     "data": {
      "text/plain": [
       "Id                             int64\n",
       "Store                          int64\n",
       "DayOfWeek                      int64\n",
       "Date                          object\n",
       "Open                         float64\n",
       "Promo                          int64\n",
       "StateHoliday                  object\n",
       "SchoolHoliday                  int64\n",
       "StoreType                     object\n",
       "Assortment                    object\n",
       "CompetitionDistance          float64\n",
       "CompetitionOpenSinceMonth    float64\n",
       "CompetitionOpenSinceYear     float64\n",
       "Promo2                         int64\n",
       "Promo2SinceWeek              float64\n",
       "Promo2SinceYear              float64\n",
       "PromoInterval                 object\n",
       "dtype: object"
      ]
     },
     "execution_count": 11,
     "metadata": {},
     "output_type": "execute_result"
    }
   ],
   "source": [
    "test_store.dtypes"
   ]
  },
  {
   "cell_type": "code",
   "execution_count": null,
   "metadata": {},
   "outputs": [
    {
     "data": {
      "text/plain": [
       "(1017209, 18)"
      ]
     },
     "execution_count": 13,
     "metadata": {},
     "output_type": "execute_result"
    }
   ],
   "source": [
    "train_store.shape"
   ]
  },
  {
   "cell_type": "code",
   "execution_count": null,
   "metadata": {},
   "outputs": [
    {
     "data": {
      "text/plain": [
       "(41088, 17)"
      ]
     },
     "execution_count": 14,
     "metadata": {},
     "output_type": "execute_result"
    }
   ],
   "source": [
    "test_store.shape"
   ]
  },
  {
   "cell_type": "code",
   "execution_count": 12,
   "metadata": {},
   "outputs": [
    {
     "data": {
      "text/plain": [
       "Store                             0\n",
       "DayOfWeek                         0\n",
       "Date                              0\n",
       "Sales                             0\n",
       "Customers                         0\n",
       "Open                              0\n",
       "Promo                             0\n",
       "StateHoliday                      0\n",
       "SchoolHoliday                     0\n",
       "StoreType                         0\n",
       "Assortment                        0\n",
       "CompetitionDistance            2642\n",
       "CompetitionOpenSinceMonth    323348\n",
       "CompetitionOpenSinceYear     323348\n",
       "Promo2                            0\n",
       "Promo2SinceWeek              508031\n",
       "Promo2SinceYear              508031\n",
       "PromoInterval                508031\n",
       "dtype: int64"
      ]
     },
     "execution_count": 12,
     "metadata": {},
     "output_type": "execute_result"
    }
   ],
   "source": [
    "# Find missing values\n",
    "train_store.isna().sum()"
   ]
  },
  {
   "cell_type": "code",
   "execution_count": null,
   "metadata": {},
   "outputs": [
    {
     "data": {
      "text/plain": [
       "Id                               0\n",
       "Store                            0\n",
       "DayOfWeek                        0\n",
       "Date                             0\n",
       "Open                            11\n",
       "Promo                            0\n",
       "StateHoliday                     0\n",
       "SchoolHoliday                    0\n",
       "StoreType                        0\n",
       "Assortment                       0\n",
       "CompetitionDistance             96\n",
       "CompetitionOpenSinceMonth    15216\n",
       "CompetitionOpenSinceYear     15216\n",
       "Promo2                           0\n",
       "Promo2SinceWeek              17232\n",
       "Promo2SinceYear              17232\n",
       "PromoInterval                17232\n",
       "dtype: int64"
      ]
     },
     "execution_count": 16,
     "metadata": {},
     "output_type": "execute_result"
    }
   ],
   "source": [
    "test_store.isna().sum()"
   ]
  },
  {
   "cell_type": "code",
   "execution_count": 13,
   "metadata": {},
   "outputs": [
    {
     "data": {
      "text/plain": [
       "644041755"
      ]
     },
     "execution_count": 13,
     "metadata": {},
     "output_type": "execute_result"
    }
   ],
   "source": [
    "train_store['Customers'].sum()"
   ]
  },
  {
   "cell_type": "code",
   "execution_count": 15,
   "metadata": {},
   "outputs": [
    {
     "data": {
      "text/plain": [
       "568039744"
      ]
     },
     "execution_count": 15,
     "metadata": {},
     "output_type": "execute_result"
    }
   ],
   "source": [
    "train_store['Store'].sum()"
   ]
  },
  {
   "cell_type": "code",
   "execution_count": 69,
   "metadata": {},
   "outputs": [],
   "source": [
    "#newCompetitors = Stores that had competitor distance as NA a value later\n",
    "\n",
    "# result = train_store.loc['CompetitionDistance<0']\n",
    "# print(result)\n"
   ]
  },
  {
   "cell_type": "markdown",
   "metadata": {},
   "source": [
    "### Data Cleaning"
   ]
  },
  {
   "cell_type": "code",
   "execution_count": 70,
   "metadata": {},
   "outputs": [],
   "source": [
    "#Instantiating the class to clean data\n",
    "cleaner=Cleaning_excel_data()\n"
   ]
  },
  {
   "cell_type": "code",
   "execution_count": 71,
   "metadata": {},
   "outputs": [],
   "source": [
    "# imp_most_frequent = SimpleImputer(missing_values=np.nan, strategy='most_frequent')\n",
    "# imp_most_frequent = imp_most_frequent.fit(test_store[['PromoInterval']])\n",
    "# imp_most_frequent = imp_most_frequent.fit(train_store[['PromoInterval']])\n",
    "# test_store['PromoInterval'] = imp_most_frequent.transform(test_store[['PromoInterval']]).ravel()\n",
    "# train_store['PromoInterval'] = imp_most_frequent.transform(train_store[['PromoInterval']]).ravel()"
   ]
  },
  {
   "cell_type": "code",
   "execution_count": 72,
   "metadata": {},
   "outputs": [
    {
     "name": "stderr",
     "output_type": "stream",
     "text": [
      "C:\\Users\\Stella\\anaconda3\\lib\\site-packages\\sklearn\\base.py:493: FutureWarning: The feature names should match those that were passed during fit. Starting version 1.2, an error will be raised.\n",
      "Feature names unseen at fit time:\n",
      "- Promo2SinceYear\n",
      "Feature names seen at fit time, yet now missing:\n",
      "- Promo2SinceWeek\n",
      "\n",
      "  warnings.warn(message, FutureWarning)\n"
     ]
    }
   ],
   "source": [
    "# #imp_median = SimpleImputer(missing_values=np.nan, strategy='most_frequent')\n",
    "\n",
    "\n",
    "\n",
    "\n",
    "# #test_store['PromoInterval'].fillna(0, inplace=True)\n",
    "\n",
    "# imp_median = SimpleImputer(missing_values=np.nan, strategy='median')\n",
    "# imp_median = imp_median.fit(test_store[['CompetitionDistance']])\n",
    "# imp_median = imp_median.fit(train_store[['CompetitionDistance']])\n",
    "# test_store['CompetitionDistance'] = imp_median.transform(test_store[['CompetitionDistance']]).ravel()\n",
    "# train_store['CompetitionDistance'] = imp_median.transform(train_store[['CompetitionDistance']]).ravel()\n",
    "\n",
    "# imp_median = SimpleImputer(missing_values=np.nan, strategy='median')\n",
    "# imp_median = imp_median.fit(test_store[['CompetitionOpenSinceYear']])\n",
    "# test_store['CompetitionOpenSinceYear'] = imp_median.transform(test_store[['CompetitionOpenSinceYear']]).ravel()\n",
    "\n",
    "# imp_median = SimpleImputer(missing_values=np.nan, strategy='median')\n",
    "# imp_median = imp_median.fit(test_store[['CompetitionOpenSinceYear']])\n",
    "# test_store['CompetitionOpenSinceYear'] = imp_median.transform(test_store[['CompetitionOpenSinceYear']]).ravel()\n",
    "\n",
    "# imp_median = SimpleImputer(missing_values=np.nan, strategy='median')\n",
    "# imp_median = imp_median.fit(test_store[['Promo2SinceWeek']])\n",
    "# test_store['Promo2SinceWeek'] = imp_median.transform(test_store[['Promo2SinceWeek']]).ravel()\n",
    "# imp_median = SimpleImputer(missing_values=np.nan, strategy='median')\n",
    "# imp_median = imp_median.fit(test_store[['Promo2SinceWeek']])\n",
    "# test_store['Promo2SinceYear'] = imp_median.transform(test_store[['Promo2SinceYear']]).ravel()\n",
    "# imputer = SimpleImputer(strategy='constant',\n",
    "#                         missing_values=np.nan, fill_value=0)\n",
    "# imp_median = imp_median.fit(test_store[['Open']])\n",
    "# test_store['Open'] = imp_median.transform(test_store[['Open']]).ravel()\n",
    "# imp_median = SimpleImputer(missing_values=np.nan, strategy='median')\n",
    "# imp_median = imp_median.fit(test_store[['CompetitionOpenSinceYear']])\n",
    "# test_store['CompetitionOpenSinceYear'] = imp_median.transform(test_store[['CompetitionOpenSinceYear']]).ravel()\n"
   ]
  },
  {
   "cell_type": "code",
   "execution_count": 73,
   "metadata": {},
   "outputs": [],
   "source": [
    "# imp_median = SimpleImputer(missing_values=np.nan, strategy='median')\n",
    "# imp_median = imp_median.fit(test_store[['CompetitionOpenSinceMonth']])\n",
    "# test_store['CompetitionOpenSinceMonth'] = imp_median.transform(test_store[['CompetitionOpenSinceMonth']]).ravel()"
   ]
  },
  {
   "cell_type": "code",
   "execution_count": 74,
   "metadata": {},
   "outputs": [
    {
     "data": {
      "text/plain": [
       "Id                           0\n",
       "Store                        0\n",
       "DayOfWeek                    0\n",
       "Date                         0\n",
       "Open                         0\n",
       "Promo                        0\n",
       "StateHoliday                 0\n",
       "SchoolHoliday                0\n",
       "StoreType                    0\n",
       "Assortment                   0\n",
       "CompetitionDistance          0\n",
       "CompetitionOpenSinceMonth    0\n",
       "CompetitionOpenSinceYear     0\n",
       "Promo2                       0\n",
       "Promo2SinceWeek              0\n",
       "Promo2SinceYear              0\n",
       "PromoInterval                0\n",
       "dtype: int64"
      ]
     },
     "execution_count": 74,
     "metadata": {},
     "output_type": "execute_result"
    }
   ],
   "source": [
    "test_store.isna().sum()"
   ]
  },
  {
   "cell_type": "code",
   "execution_count": 75,
   "metadata": {},
   "outputs": [
    {
     "name": "stderr",
     "output_type": "stream",
     "text": [
      "C:\\Users\\Stella\\anaconda3\\lib\\site-packages\\sklearn\\base.py:493: FutureWarning: The feature names should match those that were passed during fit. Starting version 1.2, an error will be raised.\n",
      "Feature names unseen at fit time:\n",
      "- Promo2SinceYear\n",
      "Feature names seen at fit time, yet now missing:\n",
      "- Promo2SinceWeek\n",
      "\n",
      "  warnings.warn(message, FutureWarning)\n"
     ]
    }
   ],
   "source": [
    "# #imp_median = SimpleImputer(missing_values=np.nan, strategy='most_frequent')\n",
    "\n",
    "\n",
    "\n",
    "# #train_store['PromoInterval'].fillna(0, inplace=True)\n",
    "\n",
    "# # imp_median = SimpleImputer(missing_values=np.nan, strategy='median')\n",
    "# # imp_median = imp_median.fit(train_store[['CompetitionDistance']])\n",
    "# # train_store['CompetitionDistance'] = imp_median.transform(train_store[['CompetitionDistance']]).ravel()\n",
    "\n",
    "# imp_median = SimpleImputer(missing_values=np.nan, strategy='median')\n",
    "# imp_median = imp_median.fit(train_store[['CompetitionOpenSinceYear']])\n",
    "# train_store['CompetitionOpenSinceYear'] = imp_median.transform(train_store[['CompetitionOpenSinceYear']]).ravel()\n",
    "\n",
    "# imp_median = SimpleImputer(missing_values=np.nan, strategy='median')\n",
    "# imp_median = imp_median.fit(train_store[['CompetitionOpenSinceYear']])\n",
    "# train_store['CompetitionOpenSinceYear'] = imp_median.transform(train_store[['CompetitionOpenSinceYear']]).ravel()\n",
    "\n",
    "# imp_median = SimpleImputer(missing_values=np.nan, strategy='median')\n",
    "# imp_median = imp_median.fit(train_store[['Promo2SinceWeek']])\n",
    "# train_store['Promo2SinceWeek'] = imp_median.transform(train_store[['Promo2SinceWeek']]).ravel()\n",
    "# imp_median = SimpleImputer(missing_values=np.nan, strategy='median')\n",
    "# imp_median = imp_median.fit(train_store[['Promo2SinceWeek']])\n",
    "# train_store['Promo2SinceYear'] = imp_median.transform(train_store[['Promo2SinceYear']]).ravel()\n",
    "# imputer = SimpleImputer(strategy='constant',\n",
    "#                         missing_values=np.nan, fill_value=0)\n",
    "# imp_median = imp_median.fit(train_store[['Open']])\n",
    "# train_store['Open'] = imp_median.transform(train_store[['Open']]).ravel()\n",
    "# imp_median = SimpleImputer(missing_values=np.nan, strategy='median')\n",
    "# imp_median = imp_median.fit(train_store[['CompetitionOpenSinceYear']])\n",
    "# train_store['CompetitionOpenSinceYear'] = imp_median.transform(train_store[['CompetitionOpenSinceYear']]).ravel()\n",
    "# imp_most_frequent = SimpleImputer(missing_values=np.nan, strategy='most_frequent')\n",
    "# imp_most_frequent = imp_most_frequent.fit(train_store[['PromoInterval']])\n",
    "# train_store['PromoInterval'] = imp_most_frequent.transform(train_store[['PromoInterval']]).ravel()\n",
    "\n",
    "# imp_median = SimpleImputer(missing_values=np.nan, strategy='median')\n",
    "# imp_median = imp_median.fit(train_store[['CompetitionOpenSinceMonth']])\n",
    "# train_store['CompetitionOpenSinceMonth'] = imp_median.transform(train_store[['CompetitionOpenSinceMonth']]).ravel()"
   ]
  },
  {
   "cell_type": "code",
   "execution_count": 76,
   "metadata": {},
   "outputs": [
    {
     "data": {
      "text/plain": [
       "Store                        0\n",
       "DayOfWeek                    0\n",
       "Date                         0\n",
       "Sales                        0\n",
       "Customers                    0\n",
       "Open                         0\n",
       "Promo                        0\n",
       "StateHoliday                 0\n",
       "SchoolHoliday                0\n",
       "StoreType                    0\n",
       "Assortment                   0\n",
       "CompetitionDistance          0\n",
       "CompetitionOpenSinceMonth    0\n",
       "CompetitionOpenSinceYear     0\n",
       "Promo2                       0\n",
       "Promo2SinceWeek              0\n",
       "Promo2SinceYear              0\n",
       "PromoInterval                0\n",
       "dtype: int64"
      ]
     },
     "execution_count": 76,
     "metadata": {},
     "output_type": "execute_result"
    }
   ],
   "source": [
    "train_store.isna().sum()"
   ]
  },
  {
   "cell_type": "markdown",
   "metadata": {},
   "source": [
    "### Converting dates to year, month in train dataset"
   ]
  },
  {
   "cell_type": "code",
   "execution_count": 16,
   "metadata": {},
   "outputs": [],
   "source": [
    "# extracting year and month from Date \n",
    "train_store['Year']  = train_store['Date'].apply(lambda x: int(str(x)[:4]))\n",
    "train_store['Month'] = train_store['Date'].apply(lambda x: int(str(x)[5:7]))\n"
   ]
  },
  {
   "cell_type": "code",
   "execution_count": 17,
   "metadata": {},
   "outputs": [
    {
     "data": {
      "text/html": [
       "<div>\n",
       "<style scoped>\n",
       "    .dataframe tbody tr th:only-of-type {\n",
       "        vertical-align: middle;\n",
       "    }\n",
       "\n",
       "    .dataframe tbody tr th {\n",
       "        vertical-align: top;\n",
       "    }\n",
       "\n",
       "    .dataframe thead th {\n",
       "        text-align: right;\n",
       "    }\n",
       "</style>\n",
       "<table border=\"1\" class=\"dataframe\">\n",
       "  <thead>\n",
       "    <tr style=\"text-align: right;\">\n",
       "      <th></th>\n",
       "      <th>Store</th>\n",
       "      <th>DayOfWeek</th>\n",
       "      <th>Date</th>\n",
       "      <th>Sales</th>\n",
       "      <th>Customers</th>\n",
       "      <th>Open</th>\n",
       "      <th>Promo</th>\n",
       "      <th>StateHoliday</th>\n",
       "      <th>SchoolHoliday</th>\n",
       "      <th>StoreType</th>\n",
       "      <th>Assortment</th>\n",
       "      <th>CompetitionDistance</th>\n",
       "      <th>CompetitionOpenSinceMonth</th>\n",
       "      <th>CompetitionOpenSinceYear</th>\n",
       "      <th>Promo2</th>\n",
       "      <th>Promo2SinceWeek</th>\n",
       "      <th>Promo2SinceYear</th>\n",
       "      <th>PromoInterval</th>\n",
       "      <th>Year</th>\n",
       "      <th>Month</th>\n",
       "    </tr>\n",
       "  </thead>\n",
       "  <tbody>\n",
       "    <tr>\n",
       "      <th>0</th>\n",
       "      <td>1</td>\n",
       "      <td>5</td>\n",
       "      <td>2015-07-31</td>\n",
       "      <td>5263</td>\n",
       "      <td>555</td>\n",
       "      <td>1</td>\n",
       "      <td>1</td>\n",
       "      <td>0</td>\n",
       "      <td>1</td>\n",
       "      <td>c</td>\n",
       "      <td>a</td>\n",
       "      <td>1270.0</td>\n",
       "      <td>9.0</td>\n",
       "      <td>2008.0</td>\n",
       "      <td>0</td>\n",
       "      <td>NaN</td>\n",
       "      <td>NaN</td>\n",
       "      <td>NaN</td>\n",
       "      <td>2015</td>\n",
       "      <td>7</td>\n",
       "    </tr>\n",
       "    <tr>\n",
       "      <th>1</th>\n",
       "      <td>2</td>\n",
       "      <td>5</td>\n",
       "      <td>2015-07-31</td>\n",
       "      <td>6064</td>\n",
       "      <td>625</td>\n",
       "      <td>1</td>\n",
       "      <td>1</td>\n",
       "      <td>0</td>\n",
       "      <td>1</td>\n",
       "      <td>a</td>\n",
       "      <td>a</td>\n",
       "      <td>570.0</td>\n",
       "      <td>11.0</td>\n",
       "      <td>2007.0</td>\n",
       "      <td>1</td>\n",
       "      <td>13.0</td>\n",
       "      <td>2010.0</td>\n",
       "      <td>Jan,Apr,Jul,Oct</td>\n",
       "      <td>2015</td>\n",
       "      <td>7</td>\n",
       "    </tr>\n",
       "    <tr>\n",
       "      <th>2</th>\n",
       "      <td>3</td>\n",
       "      <td>5</td>\n",
       "      <td>2015-07-31</td>\n",
       "      <td>8314</td>\n",
       "      <td>821</td>\n",
       "      <td>1</td>\n",
       "      <td>1</td>\n",
       "      <td>0</td>\n",
       "      <td>1</td>\n",
       "      <td>a</td>\n",
       "      <td>a</td>\n",
       "      <td>14130.0</td>\n",
       "      <td>12.0</td>\n",
       "      <td>2006.0</td>\n",
       "      <td>1</td>\n",
       "      <td>14.0</td>\n",
       "      <td>2011.0</td>\n",
       "      <td>Jan,Apr,Jul,Oct</td>\n",
       "      <td>2015</td>\n",
       "      <td>7</td>\n",
       "    </tr>\n",
       "    <tr>\n",
       "      <th>3</th>\n",
       "      <td>4</td>\n",
       "      <td>5</td>\n",
       "      <td>2015-07-31</td>\n",
       "      <td>13995</td>\n",
       "      <td>1498</td>\n",
       "      <td>1</td>\n",
       "      <td>1</td>\n",
       "      <td>0</td>\n",
       "      <td>1</td>\n",
       "      <td>c</td>\n",
       "      <td>c</td>\n",
       "      <td>620.0</td>\n",
       "      <td>9.0</td>\n",
       "      <td>2009.0</td>\n",
       "      <td>0</td>\n",
       "      <td>NaN</td>\n",
       "      <td>NaN</td>\n",
       "      <td>NaN</td>\n",
       "      <td>2015</td>\n",
       "      <td>7</td>\n",
       "    </tr>\n",
       "    <tr>\n",
       "      <th>4</th>\n",
       "      <td>5</td>\n",
       "      <td>5</td>\n",
       "      <td>2015-07-31</td>\n",
       "      <td>4822</td>\n",
       "      <td>559</td>\n",
       "      <td>1</td>\n",
       "      <td>1</td>\n",
       "      <td>0</td>\n",
       "      <td>1</td>\n",
       "      <td>a</td>\n",
       "      <td>a</td>\n",
       "      <td>29910.0</td>\n",
       "      <td>4.0</td>\n",
       "      <td>2015.0</td>\n",
       "      <td>0</td>\n",
       "      <td>NaN</td>\n",
       "      <td>NaN</td>\n",
       "      <td>NaN</td>\n",
       "      <td>2015</td>\n",
       "      <td>7</td>\n",
       "    </tr>\n",
       "  </tbody>\n",
       "</table>\n",
       "</div>"
      ],
      "text/plain": [
       "   Store  DayOfWeek        Date  Sales  Customers  Open  Promo StateHoliday  \\\n",
       "0      1          5  2015-07-31   5263        555     1      1            0   \n",
       "1      2          5  2015-07-31   6064        625     1      1            0   \n",
       "2      3          5  2015-07-31   8314        821     1      1            0   \n",
       "3      4          5  2015-07-31  13995       1498     1      1            0   \n",
       "4      5          5  2015-07-31   4822        559     1      1            0   \n",
       "\n",
       "   SchoolHoliday StoreType Assortment  CompetitionDistance  \\\n",
       "0              1         c          a               1270.0   \n",
       "1              1         a          a                570.0   \n",
       "2              1         a          a              14130.0   \n",
       "3              1         c          c                620.0   \n",
       "4              1         a          a              29910.0   \n",
       "\n",
       "   CompetitionOpenSinceMonth  CompetitionOpenSinceYear  Promo2  \\\n",
       "0                        9.0                    2008.0       0   \n",
       "1                       11.0                    2007.0       1   \n",
       "2                       12.0                    2006.0       1   \n",
       "3                        9.0                    2009.0       0   \n",
       "4                        4.0                    2015.0       0   \n",
       "\n",
       "   Promo2SinceWeek  Promo2SinceYear    PromoInterval  Year  Month  \n",
       "0              NaN              NaN              NaN  2015      7  \n",
       "1             13.0           2010.0  Jan,Apr,Jul,Oct  2015      7  \n",
       "2             14.0           2011.0  Jan,Apr,Jul,Oct  2015      7  \n",
       "3              NaN              NaN              NaN  2015      7  \n",
       "4              NaN              NaN              NaN  2015      7  "
      ]
     },
     "execution_count": 17,
     "metadata": {},
     "output_type": "execute_result"
    }
   ],
   "source": [
    "train_store.head()"
   ]
  },
  {
   "cell_type": "markdown",
   "metadata": {},
   "source": [
    "### Generation of month and year from date in test dataframe"
   ]
  },
  {
   "cell_type": "code",
   "execution_count": 18,
   "metadata": {},
   "outputs": [
    {
     "data": {
      "text/plain": [
       "<AxesSubplot:>"
      ]
     },
     "execution_count": 18,
     "metadata": {},
     "output_type": "execute_result"
    },
    {
     "data": {
      "image/png": "[encoded data removed]",
      "text/plain": [
       "<Figure size 432x288 with 1 Axes>"
      ]
     },
     "metadata": {
      "needs_background": "light"
     },
     "output_type": "display_data"
    }
   ],
   "source": [
    "train_store['StateHoliday'].value_counts().plot(kind='bar')"
   ]
  },
  {
   "cell_type": "code",
   "execution_count": 80,
   "metadata": {},
   "outputs": [],
   "source": [
    "# extracting year and month from Date \n",
    "test_store['Year']  = test_store['Date'].apply(lambda x: int(str(x)[:4]))\n",
    "test_store['Month'] = test_store['Date'].apply(lambda x: int(str(x)[5:7]))"
   ]
  },
  {
   "cell_type": "code",
   "execution_count": 81,
   "metadata": {},
   "outputs": [
    {
     "data": {
      "text/html": [
       "<div>\n",
       "<style scoped>\n",
       "    .dataframe tbody tr th:only-of-type {\n",
       "        vertical-align: middle;\n",
       "    }\n",
       "\n",
       "    .dataframe tbody tr th {\n",
       "        vertical-align: top;\n",
       "    }\n",
       "\n",
       "    .dataframe thead th {\n",
       "        text-align: right;\n",
       "    }\n",
       "</style>\n",
       "<table border=\"1\" class=\"dataframe\">\n",
       "  <thead>\n",
       "    <tr style=\"text-align: right;\">\n",
       "      <th></th>\n",
       "      <th>Id</th>\n",
       "      <th>Store</th>\n",
       "      <th>DayOfWeek</th>\n",
       "      <th>Date</th>\n",
       "      <th>Open</th>\n",
       "      <th>Promo</th>\n",
       "      <th>StateHoliday</th>\n",
       "      <th>SchoolHoliday</th>\n",
       "      <th>StoreType</th>\n",
       "      <th>Assortment</th>\n",
       "      <th>CompetitionDistance</th>\n",
       "      <th>CompetitionOpenSinceMonth</th>\n",
       "      <th>CompetitionOpenSinceYear</th>\n",
       "      <th>Promo2</th>\n",
       "      <th>Promo2SinceWeek</th>\n",
       "      <th>Promo2SinceYear</th>\n",
       "      <th>PromoInterval</th>\n",
       "      <th>Year</th>\n",
       "      <th>Month</th>\n",
       "    </tr>\n",
       "  </thead>\n",
       "  <tbody>\n",
       "    <tr>\n",
       "      <th>0</th>\n",
       "      <td>1</td>\n",
       "      <td>1</td>\n",
       "      <td>4</td>\n",
       "      <td>2015-09-17</td>\n",
       "      <td>1.0</td>\n",
       "      <td>1</td>\n",
       "      <td>0</td>\n",
       "      <td>0</td>\n",
       "      <td>c</td>\n",
       "      <td>a</td>\n",
       "      <td>1270.0</td>\n",
       "      <td>9.0</td>\n",
       "      <td>2008.0</td>\n",
       "      <td>0</td>\n",
       "      <td>22.0</td>\n",
       "      <td>22.0</td>\n",
       "      <td>Jan,Apr,Jul,Oct</td>\n",
       "      <td>2015</td>\n",
       "      <td>9</td>\n",
       "    </tr>\n",
       "    <tr>\n",
       "      <th>1</th>\n",
       "      <td>2</td>\n",
       "      <td>3</td>\n",
       "      <td>4</td>\n",
       "      <td>2015-09-17</td>\n",
       "      <td>1.0</td>\n",
       "      <td>1</td>\n",
       "      <td>0</td>\n",
       "      <td>0</td>\n",
       "      <td>a</td>\n",
       "      <td>a</td>\n",
       "      <td>14130.0</td>\n",
       "      <td>12.0</td>\n",
       "      <td>2006.0</td>\n",
       "      <td>1</td>\n",
       "      <td>14.0</td>\n",
       "      <td>2011.0</td>\n",
       "      <td>Jan,Apr,Jul,Oct</td>\n",
       "      <td>2015</td>\n",
       "      <td>9</td>\n",
       "    </tr>\n",
       "    <tr>\n",
       "      <th>2</th>\n",
       "      <td>3</td>\n",
       "      <td>7</td>\n",
       "      <td>4</td>\n",
       "      <td>2015-09-17</td>\n",
       "      <td>1.0</td>\n",
       "      <td>1</td>\n",
       "      <td>0</td>\n",
       "      <td>0</td>\n",
       "      <td>a</td>\n",
       "      <td>c</td>\n",
       "      <td>24000.0</td>\n",
       "      <td>4.0</td>\n",
       "      <td>2013.0</td>\n",
       "      <td>0</td>\n",
       "      <td>22.0</td>\n",
       "      <td>22.0</td>\n",
       "      <td>Jan,Apr,Jul,Oct</td>\n",
       "      <td>2015</td>\n",
       "      <td>9</td>\n",
       "    </tr>\n",
       "    <tr>\n",
       "      <th>3</th>\n",
       "      <td>4</td>\n",
       "      <td>8</td>\n",
       "      <td>4</td>\n",
       "      <td>2015-09-17</td>\n",
       "      <td>1.0</td>\n",
       "      <td>1</td>\n",
       "      <td>0</td>\n",
       "      <td>0</td>\n",
       "      <td>a</td>\n",
       "      <td>a</td>\n",
       "      <td>7520.0</td>\n",
       "      <td>10.0</td>\n",
       "      <td>2014.0</td>\n",
       "      <td>0</td>\n",
       "      <td>22.0</td>\n",
       "      <td>22.0</td>\n",
       "      <td>Jan,Apr,Jul,Oct</td>\n",
       "      <td>2015</td>\n",
       "      <td>9</td>\n",
       "    </tr>\n",
       "    <tr>\n",
       "      <th>4</th>\n",
       "      <td>5</td>\n",
       "      <td>9</td>\n",
       "      <td>4</td>\n",
       "      <td>2015-09-17</td>\n",
       "      <td>1.0</td>\n",
       "      <td>1</td>\n",
       "      <td>0</td>\n",
       "      <td>0</td>\n",
       "      <td>a</td>\n",
       "      <td>c</td>\n",
       "      <td>2030.0</td>\n",
       "      <td>8.0</td>\n",
       "      <td>2000.0</td>\n",
       "      <td>0</td>\n",
       "      <td>22.0</td>\n",
       "      <td>22.0</td>\n",
       "      <td>Jan,Apr,Jul,Oct</td>\n",
       "      <td>2015</td>\n",
       "      <td>9</td>\n",
       "    </tr>\n",
       "  </tbody>\n",
       "</table>\n",
       "</div>"
      ],
      "text/plain": [
       "   Id  Store  DayOfWeek        Date  Open  Promo StateHoliday  SchoolHoliday  \\\n",
       "0   1      1          4  2015-09-17   1.0      1            0              0   \n",
       "1   2      3          4  2015-09-17   1.0      1            0              0   \n",
       "2   3      7          4  2015-09-17   1.0      1            0              0   \n",
       "3   4      8          4  2015-09-17   1.0      1            0              0   \n",
       "4   5      9          4  2015-09-17   1.0      1            0              0   \n",
       "\n",
       "  StoreType Assortment  CompetitionDistance  CompetitionOpenSinceMonth  \\\n",
       "0         c          a               1270.0                        9.0   \n",
       "1         a          a              14130.0                       12.0   \n",
       "2         a          c              24000.0                        4.0   \n",
       "3         a          a               7520.0                       10.0   \n",
       "4         a          c               2030.0                        8.0   \n",
       "\n",
       "   CompetitionOpenSinceYear  Promo2  Promo2SinceWeek  Promo2SinceYear  \\\n",
       "0                    2008.0       0             22.0             22.0   \n",
       "1                    2006.0       1             14.0           2011.0   \n",
       "2                    2013.0       0             22.0             22.0   \n",
       "3                    2014.0       0             22.0             22.0   \n",
       "4                    2000.0       0             22.0             22.0   \n",
       "\n",
       "     PromoInterval  Year  Month  \n",
       "0  Jan,Apr,Jul,Oct  2015      9  \n",
       "1  Jan,Apr,Jul,Oct  2015      9  \n",
       "2  Jan,Apr,Jul,Oct  2015      9  \n",
       "3  Jan,Apr,Jul,Oct  2015      9  \n",
       "4  Jan,Apr,Jul,Oct  2015      9  "
      ]
     },
     "execution_count": 81,
     "metadata": {},
     "output_type": "execute_result"
    }
   ],
   "source": [
    "test_store.head()"
   ]
  },
  {
   "cell_type": "markdown",
   "metadata": {},
   "source": [
    "## Univariate analysis"
   ]
  },
  {
   "cell_type": "code",
   "execution_count": 20,
   "metadata": {},
   "outputs": [],
   "source": [
    "plot= Plot()"
   ]
  },
  {
   "cell_type": "markdown",
   "metadata": {},
   "source": [
    "### Comparing the promotion distribution between the train and test datasets"
   ]
  },
  {
   "cell_type": "code",
   "execution_count": 21,
   "metadata": {},
   "outputs": [
    {
     "data": {
      "image/png": "[encoded data removed]",
      "text/plain": [
       "<Figure size 864x504 with 1 Axes>"
      ]
     },
     "metadata": {
      "needs_background": "light"
     },
     "output_type": "display_data"
    }
   ],
   "source": [
    "plot.plot_count(test_store, 'Promo')"
   ]
  },
  {
   "cell_type": "code",
   "execution_count": 23,
   "metadata": {},
   "outputs": [
    {
     "data": {
      "image/png": "[encoded data removed]",
      "text/plain": [
       "<Figure size 864x504 with 1 Axes>"
      ]
     },
     "metadata": {
      "needs_background": "light"
     },
     "output_type": "display_data"
    }
   ],
   "source": [
    "plot.plot_count(train_store, 'Promo')"
   ]
  },
  {
   "cell_type": "markdown",
   "metadata": {},
   "source": [
    "The distribution shows that promotions are more for the train dataset than  test dataset "
   ]
  },
  {
   "cell_type": "markdown",
   "metadata": {},
   "source": [
    "## Bivariate Analysis"
   ]
  },
  {
   "cell_type": "code",
   "execution_count": 24,
   "metadata": {},
   "outputs": [
    {
     "data": {
      "image/png": "[encoded data removed]",
      "text/plain": [
       "<Figure size 432x288 with 1 Axes>"
      ]
     },
     "metadata": {
      "needs_background": "light"
     },
     "output_type": "display_data"
    }
   ],
   "source": [
    "# Sales with respect to year \n",
    "sns.barplot(x='Year', y='Sales', data=train_store).set(title='Year vs Sales')\n",
    "plt.show()"
   ]
  },
  {
   "cell_type": "markdown",
   "metadata": {},
   "source": [
    "More sales were made in 2015."
   ]
  },
  {
   "cell_type": "markdown",
   "metadata": {},
   "source": [
    "### Day of week Vs open"
   ]
  },
  {
   "cell_type": "code",
   "execution_count": 25,
   "metadata": {},
   "outputs": [
    {
     "data": {
      "image/png": "[encoded data removed]",
      "text/plain": [
       "<Figure size 864x504 with 1 Axes>"
      ]
     },
     "metadata": {
      "needs_background": "light"
     },
     "output_type": "display_data"
    }
   ],
   "source": [
    "plot.plot_bar(train_store,\"DayOfWeek\",\"Open\",\"Day of week VS Open\", \"DayOfWeek\",\"Open\")"
   ]
  },
  {
   "cell_type": "code",
   "execution_count": 26,
   "metadata": {},
   "outputs": [
    {
     "data": {
      "image/png": "[encoded data removed]",
      "text/plain": [
       "<Figure size 864x504 with 1 Axes>"
      ]
     },
     "metadata": {
      "needs_background": "light"
     },
     "output_type": "display_data"
    }
   ],
   "source": [
    "plot.plot_bar(test_store,\"DayOfWeek\",\"Open\",\"Day of week VS Open\", \"DayOfWeek\",\"Open\")"
   ]
  },
  {
   "cell_type": "markdown",
   "metadata": {},
   "source": [
    "The distribution plots show that most stores normally remain closed on Last day of the week\n"
   ]
  },
  {
   "cell_type": "markdown",
   "metadata": {},
   "source": [
    "###    Open VS State Holidays"
   ]
  },
  {
   "cell_type": "code",
   "execution_count": 27,
   "metadata": {},
   "outputs": [
    {
     "data": {
      "image/png": "[encoded data removed]",
      "text/plain": [
       "<Figure size 864x504 with 1 Axes>"
      ]
     },
     "metadata": {
      "needs_background": "light"
     },
     "output_type": "display_data"
    }
   ],
   "source": [
    "plot.plot_bar(train_store,\"StateHoliday\",\"Open\",\"Open VS StateHoliday\", \"StateHoliday\",\"Open\")"
   ]
  },
  {
   "cell_type": "code",
   "execution_count": 89,
   "metadata": {},
   "outputs": [
    {
     "data": {
      "image/png": "[encoded data removed]",
      "text/plain": [
       "<Figure size 864x504 with 1 Axes>"
      ]
     },
     "metadata": {
      "needs_background": "light"
     },
     "output_type": "display_data"
    }
   ],
   "source": [
    "plot.plot_bar(test_store,\"StateHoliday\",\"Open\",\"Open VS StateHoliday\", \"StateHoliday\",\"Open\")"
   ]
  },
  {
   "cell_type": "markdown",
   "metadata": {},
   "source": [
    "The visualization indicates that most stores remain closed during state holidays, but few stores are open on public holidays."
   ]
  },
  {
   "cell_type": "markdown",
   "metadata": {},
   "source": [
    "### Open Vs School Holiday"
   ]
  },
  {
   "cell_type": "code",
   "execution_count": 90,
   "metadata": {},
   "outputs": [
    {
     "data": {
      "image/png": "[encoded data removed]",
      "text/plain": [
       "<Figure size 864x504 with 1 Axes>"
      ]
     },
     "metadata": {
      "needs_background": "light"
     },
     "output_type": "display_data"
    }
   ],
   "source": [
    "plot.plot_bar(test_store,\"SchoolHoliday\",\"Open\",\"Open VS SchoolHoliday\", \"SchoolHoliday\",\"Open\")"
   ]
  },
  {
   "cell_type": "markdown",
   "metadata": {},
   "source": [
    "### More stores are open on school holidays than when there is no school holiday. However school holidays do not affect the opening of stores as much as state holidays."
   ]
  },
  {
   "cell_type": "code",
   "execution_count": 28,
   "metadata": {},
   "outputs": [
    {
     "data": {
      "image/png": "[encoded data removed]",
      "text/plain": [
       "<Figure size 864x504 with 1 Axes>"
      ]
     },
     "metadata": {
      "needs_background": "light"
     },
     "output_type": "display_data"
    }
   ],
   "source": [
    "plot.plot_bar(train_store,\"SchoolHoliday\",\"Promo\",\"Promo VS SchoolHoliday\", \"SchoolHoliday\",\"Promo\")"
   ]
  },
  {
   "cell_type": "markdown",
   "metadata": {},
   "source": [
    "### This shows that more promotions are available during school holidays"
   ]
  },
  {
   "cell_type": "markdown",
   "metadata": {},
   "source": [
    "### Promotions VS State Holidays"
   ]
  },
  {
   "cell_type": "markdown",
   "metadata": {},
   "source": [
    "1. What is the relation between sales and holidays?"
   ]
  },
  {
   "cell_type": "code",
   "execution_count": 30,
   "metadata": {},
   "outputs": [
    {
     "data": {
      "image/png": "[encoded data removed]",
      "text/plain": [
       "<Figure size 864x504 with 1 Axes>"
      ]
     },
     "metadata": {
      "needs_background": "light"
     },
     "output_type": "display_data"
    }
   ],
   "source": [
    "plot.plot_bar(test_store,\"StateHoliday\",\"Promo\",\"Promo VS StateHoliday\", \"StateHoliday\",\"Promo\")"
   ]
  },
  {
   "cell_type": "markdown",
   "metadata": {},
   "source": [
    "This shows that no promotions are available during state holidays in the test data"
   ]
  },
  {
   "cell_type": "markdown",
   "metadata": {},
   "source": [
    "### Promo Vs state Holiday"
   ]
  },
  {
   "cell_type": "code",
   "execution_count": 31,
   "metadata": {},
   "outputs": [
    {
     "data": {
      "image/png": "[encoded data removed]",
      "text/plain": [
       "<Figure size 864x504 with 1 Axes>"
      ]
     },
     "metadata": {
      "needs_background": "light"
     },
     "output_type": "display_data"
    }
   ],
   "source": [
    "plot.plot_bar(train_store,\"StateHoliday\",\"Promo\",\"Promo VS StateHoliday\", \"StateHoliday\",\"Promo\")"
   ]
  },
  {
   "cell_type": "markdown",
   "metadata": {},
   "source": [
    "a = public holiday, b = Easter holiday, c = Christmas, 0 = None\n",
    "### The plot shows that most promotions are available during the easter holidays"
   ]
  },
  {
   "cell_type": "markdown",
   "metadata": {},
   "source": [
    "### Promo Vs School holiday"
   ]
  },
  {
   "cell_type": "code",
   "execution_count": 32,
   "metadata": {},
   "outputs": [
    {
     "data": {
      "image/png": "[encoded data removed]",
      "text/plain": [
       "<Figure size 864x504 with 1 Axes>"
      ]
     },
     "metadata": {
      "needs_background": "light"
     },
     "output_type": "display_data"
    }
   ],
   "source": [
    "plot.plot_bar(train_store,\"SchoolHoliday\",\"Promo\",\"Promo VS SchoolHoliday\", \"SchoolHoliday\",\"Promo\")"
   ]
  },
  {
   "cell_type": "markdown",
   "metadata": {},
   "source": [
    "There are more promotions available when there is a school holiday"
   ]
  },
  {
   "cell_type": "markdown",
   "metadata": {},
   "source": [
    "### Promo VS Sales"
   ]
  },
  {
   "cell_type": "code",
   "execution_count": 95,
   "metadata": {},
   "outputs": [
    {
     "data": {
      "image/png": "[encoded data removed]",
      "text/plain": [
       "<Figure size 864x504 with 1 Axes>"
      ]
     },
     "metadata": {
      "needs_background": "light"
     },
     "output_type": "display_data"
    }
   ],
   "source": [
    "plot.plot_bar(train_store,\"Promo\",\"Sales\",\"Sales VS Promo\", \"Promo\",\"Sales\")"
   ]
  },
  {
   "cell_type": "markdown",
   "metadata": {},
   "source": [
    "### Stores make more sales when there is a promotion on"
   ]
  },
  {
   "cell_type": "markdown",
   "metadata": {},
   "source": [
    "## Seasonality check"
   ]
  },
  {
   "cell_type": "markdown",
   "metadata": {},
   "source": [
    "### Before Christmas"
   ]
  },
  {
   "cell_type": "code",
   "execution_count": 33,
   "metadata": {},
   "outputs": [
    {
     "data": {
      "image/png": "[encoded data removed]",
      "text/plain": [
       "<Figure size 864x432 with 1 Axes>"
      ]
     },
     "metadata": {
      "needs_background": "light"
     },
     "output_type": "display_data"
    }
   ],
   "source": [
    "train_store['Date'] = pd.to_datetime(train_store['Date']) # convert date column to DateTime\n",
    "ax = train_store.plot(x='Date', y='Sales', figsize=(12,6))\n",
    "\n",
    "xcoords = ['2013-11-25','2013-12-25', '2014-11-25','2014-12-25']\n",
    "for xc in xcoords:\n",
    "    plt.axvline(x=xc, color='black', linestyle='--')"
   ]
  },
  {
   "cell_type": "markdown",
   "metadata": {},
   "source": [
    "### Easter Season"
   ]
  },
  {
   "cell_type": "code",
   "execution_count": 36,
   "metadata": {},
   "outputs": [
    {
     "data": {
      "image/png": "[encoded data removed]",
      "text/plain": [
       "<Figure size 1080x648 with 1 Axes>"
      ]
     },
     "metadata": {
      "needs_background": "light"
     },
     "output_type": "display_data"
    }
   ],
   "source": [
    "train_store['Date'] = pd.to_datetime(train_store['Date']) # convert date column to DateTime\n",
    "ax = train_store.plot(x='Date', y='Sales', figsize=(15,9))\n",
    "\n",
    "xcoords = ['2013-03-29','2013-04-01', '2014-04-18','2014-04-21', '2015-04-3','2015-04-6']\n",
    "for xc in xcoords:\n",
    "    plt.axvline(x=xc, color='black', linestyle='--')"
   ]
  },
  {
   "cell_type": "code",
   "execution_count": 98,
   "metadata": {},
   "outputs": [
    {
     "data": {
      "text/plain": [
       "array(['2015-07-31T00:00:00.000000000', '2015-07-31T00:00:00.000000000',\n",
       "       '2015-07-31T00:00:00.000000000', ...,\n",
       "       '2013-01-01T00:00:00.000000000', '2013-01-01T00:00:00.000000000',\n",
       "       '2013-01-01T00:00:00.000000000'], dtype='datetime64[ns]')"
      ]
     },
     "execution_count": 98,
     "metadata": {},
     "output_type": "execute_result"
    }
   ],
   "source": [
    "cond = (train_store['SchoolHoliday'] == 1) \n",
    "result = train_store[cond].Date.values\n",
    "result"
   ]
  },
  {
   "cell_type": "markdown",
   "metadata": {},
   "source": [
    "There is a spike in sales during school holidays"
   ]
  },
  {
   "cell_type": "markdown",
   "metadata": {},
   "source": [
    "## Correlation of sales and number of customers in a day"
   ]
  },
  {
   "cell_type": "code",
   "execution_count": 29,
   "metadata": {},
   "outputs": [
    {
     "data": {
      "text/plain": [
       "<AxesSubplot:title={'center':'Correlation of sales and number of customers'}, xlabel='Customers'>"
      ]
     },
     "execution_count": 29,
     "metadata": {},
     "output_type": "execute_result"
    },
    {
     "data": {
      "image/png": "[encoded data removed]",
      "text/plain": [
       "<Figure size 864x432 with 1 Axes>"
      ]
     },
     "metadata": {
      "needs_background": "light"
     },
     "output_type": "display_data"
    }
   ],
   "source": [
    "train_store.plot(x='Customers', y='Sales', figsize=(12,6), title= 'Correlation of sales and number of customers',kind ='line')"
   ]
  },
  {
   "cell_type": "markdown",
   "metadata": {},
   "source": [
    "## Correlation of assortment with sales"
   ]
  },
  {
   "cell_type": "code",
   "execution_count": 100,
   "metadata": {},
   "outputs": [
    {
     "data": {
      "text/plain": [
       "<AxesSubplot:title={'center':'Correlation of Assortment and sales'}, xlabel='Assortment'>"
      ]
     },
     "execution_count": 100,
     "metadata": {},
     "output_type": "execute_result"
    },
    {
     "data": {
      "image/png": "[encoded data removed]",
      "text/plain": [
       "<Figure size 864x432 with 1 Axes>"
      ]
     },
     "metadata": {
      "needs_background": "light"
     },
     "output_type": "display_data"
    }
   ],
   "source": [
    "train_store.plot(x='Assortment', y='Sales', figsize=(12,6), title= 'Correlation of Assortment and sales',kind ='line')"
   ]
  },
  {
   "cell_type": "markdown",
   "metadata": {},
   "source": [
    "## Stores that need promtions"
   ]
  },
  {
   "cell_type": "code",
   "execution_count": 101,
   "metadata": {},
   "outputs": [
    {
     "data": {
      "text/plain": [
       "<AxesSubplot:title={'center':'Correlation of Store and sales'}, xlabel='Store'>"
      ]
     },
     "execution_count": 101,
     "metadata": {},
     "output_type": "execute_result"
    },
    {
     "data": {
      "image/png": "[encoded data removed]",
      "text/plain": [
       "<Figure size 864x432 with 1 Axes>"
      ]
     },
     "metadata": {
      "needs_background": "light"
     },
     "output_type": "display_data"
    }
   ],
   "source": [
    "train_store.plot(x='Store', y='Sales', figsize=(12,6), title= 'Correlation of Store and sales',kind ='line')"
   ]
  },
  {
   "cell_type": "code",
   "execution_count": null,
   "metadata": {},
   "outputs": [],
   "source": [
    "train_store.plot(x='Store', y='Promo2', figsize=(12,6), title= 'Correlation of Stores and promos',kind ='bar')"
   ]
  },
  {
   "cell_type": "markdown",
   "metadata": {},
   "source": [
    "## Sales vs SchoolHoliday"
   ]
  },
  {
   "cell_type": "code",
   "execution_count": 37,
   "metadata": {},
   "outputs": [
    {
     "data": {
      "image/png": "[encoded data removed]",
      "text/plain": [
       "<Figure size 864x504 with 1 Axes>"
      ]
     },
     "metadata": {
      "needs_background": "light"
     },
     "output_type": "display_data"
    }
   ],
   "source": [
    "plot.plot_bar(train_store,\"SchoolHoliday\",\"Sales\",\"Sales VS SchoolHoliday\", \"SchoolHoliday\",\"Sales\")"
   ]
  },
  {
   "cell_type": "markdown",
   "metadata": {},
   "source": [
    "### More sales are made during School holidays"
   ]
  },
  {
   "cell_type": "code",
   "execution_count": 38,
   "metadata": {},
   "outputs": [
    {
     "data": {
      "image/png": "[encoded data removed]",
      "text/plain": [
       "<Figure size 864x504 with 1 Axes>"
      ]
     },
     "metadata": {
      "needs_background": "light"
     },
     "output_type": "display_data"
    }
   ],
   "source": [
    "plot.plot_bar(train_store,\"StateHoliday\",\"Sales\",\"Sales VS StateHoliday\", \"StateHoliday\",\"Sales\")"
   ]
  },
  {
   "cell_type": "markdown",
   "metadata": {},
   "source": [
    "## Analysis of customers and Promotions"
   ]
  },
  {
   "cell_type": "code",
   "execution_count": null,
   "metadata": {},
   "outputs": [],
   "source": [
    "plot.plot_bar(train_store.head(100),\"Promo\",\"Customers\",\"Promo VS Customers\", \"Promo\",\"Customers\")"
   ]
  },
  {
   "cell_type": "code",
   "execution_count": null,
   "metadata": {},
   "outputs": [],
   "source": [
    "train_store.columns.to_list()"
   ]
  },
  {
   "cell_type": "markdown",
   "metadata": {},
   "source": [
    "Competition Analysis"
   ]
  },
  {
   "cell_type": "code",
   "execution_count": null,
   "metadata": {},
   "outputs": [],
   "source": [
    "plot.plot_bar(train_store.head(20),'CompetitionDistance',\"Sales\",\"Competition distance VS Sales\", 'CompetitionDistance',\"Sales\")"
   ]
  },
  {
   "cell_type": "code",
   "execution_count": null,
   "metadata": {},
   "outputs": [],
   "source": [
    "plot.plot_bar(train_store,'CompetitionOpenSinceYear',\"Sales\",\"CompetitionOpenSinceYear VS Sales\", 'CompetitionOpenSinceYear',\"Sales\")"
   ]
  },
  {
   "cell_type": "code",
   "execution_count": null,
   "metadata": {},
   "outputs": [
    {
     "data": {
      "text/plain": [
       "[1270.0,\n",
       " 570.0,\n",
       " 14130.0,\n",
       " 620.0,\n",
       " 29910.0,\n",
       " 310.0,\n",
       " 24000.0,\n",
       " 7520.0,\n",
       " 2030.0,\n",
       " 3160.0,\n",
       " 960.0,\n",
       " 1070.0,\n",
       " 310.0,\n",
       " 1300.0,\n",
       " 4110.0,\n",
       " 3270.0,\n",
       " 50.0,\n",
       " 13840.0,\n",
       " 3240.0,\n",
       " 2340.0,\n",
       " 550.0,\n",
       " 1040.0,\n",
       " 4060.0,\n",
       " 4590.0,\n",
       " 430.0,\n",
       " 2300.0,\n",
       " 60.0,\n",
       " 1200.0,\n",
       " 2170.0,\n",
       " 40.0,\n",
       " 9800.0,\n",
       " 2910.0,\n",
       " 1320.0,\n",
       " 2240.0,\n",
       " 7660.0,\n",
       " 540.0,\n",
       " 4230.0,\n",
       " 1090.0,\n",
       " 260.0,\n",
       " 180.0,\n",
       " 1180.0,\n",
       " 290.0,\n",
       " 4880.0,\n",
       " 540.0,\n",
       " 9710.0,\n",
       " 1200.0,\n",
       " 270.0,\n",
       " 1060.0,\n",
       " 18010.0,\n",
       " 6260.0,\n",
       " 10570.0,\n",
       " 450.0,\n",
       " 30360.0,\n",
       " 7170.0,\n",
       " 720.0,\n",
       " 6620.0,\n",
       " 420.0,\n",
       " 7340.0,\n",
       " 2840.0,\n",
       " 5540.0,\n",
       " 350.0,\n",
       " 2050.0,\n",
       " 3700.0,\n",
       " 22560.0,\n",
       " 13840.0,\n",
       " 7660.0,\n",
       " 410.0,\n",
       " 250.0,\n",
       " 1130.0,\n",
       " 4840.0,\n",
       " 17500.0,\n",
       " 2200.0,\n",
       " 1650.0,\n",
       " 330.0,\n",
       " 22440.0,\n",
       " 19960.0,\n",
       " 1090.0,\n",
       " 3510.0,\n",
       " 3320.0,\n",
       " 7910.0,\n",
       " 2370.0,\n",
       " 22390.0,\n",
       " 2710.0,\n",
       " 11810.0,\n",
       " 1870.0,\n",
       " 480.0,\n",
       " 560.0,\n",
       " 10690.0,\n",
       " 2380.0,\n",
       " 330.0,\n",
       " 2410.0,\n",
       " 240.0,\n",
       " 16690.0,\n",
       " 14620.0,\n",
       " 1890.0,\n",
       " 8780.0,\n",
       " 8980.0,\n",
       " 15140.0,\n",
       " 2030.0,\n",
       " 17930.0,\n",
       " 2440.0,\n",
       " 150.0,\n",
       " 5210.0,\n",
       " 390.0,\n",
       " 6190.0,\n",
       " 1390.0,\n",
       " 1930.0,\n",
       " 2190.0,\n",
       " 3300.0,\n",
       " 46590.0,\n",
       " 7890.0,\n",
       " 1630.0,\n",
       " 20930.0,\n",
       " 4510.0,\n",
       " 5740.0,\n",
       " 680.0,\n",
       " 3450.0,\n",
       " 3580.0,\n",
       " 2100.0,\n",
       " 2290.0,\n",
       " 3570.0,\n",
       " 58260.0,\n",
       " 16760.0,\n",
       " 1410.0,\n",
       " 760.0,\n",
       " 3370.0,\n",
       " 1350.0,\n",
       " 2000.0,\n",
       " 2460.0,\n",
       " 900.0,\n",
       " 920.0,\n",
       " 1040.0,\n",
       " 270.0,\n",
       " 1200.0,\n",
       " 5190.0,\n",
       " 2200.0,\n",
       " 1730.0,\n",
       " 25360.0,\n",
       " 1700.0,\n",
       " 1090.0,\n",
       " 1540.0,\n",
       " 1090.0,\n",
       " 2930.0,\n",
       " 16570.0,\n",
       " 280.0,\n",
       " 8050.0,\n",
       " 8540.0,\n",
       " 2090.0,\n",
       " 2610.0,\n",
       " 31830.0,\n",
       " 4360.0,\n",
       " 1780.0,\n",
       " 16240.0,\n",
       " 16420.0,\n",
       " 3050.0,\n",
       " 2020.0,\n",
       " 2950.0,\n",
       " 11840.0,\n",
       " 8530.0,\n",
       " 17110.0,\n",
       " 2970.0,\n",
       " 5340.0,\n",
       " 1480.0,\n",
       " 1160.0,\n",
       " 3720.0,\n",
       " 100.0,\n",
       " 140.0,\n",
       " 12540.0,\n",
       " 980.0,\n",
       " 1070.0,\n",
       " 2640.0,\n",
       " 110.0,\n",
       " 350.0,\n",
       " 13090.0,\n",
       " 4130.0,\n",
       " 3770.0,\n",
       " 1250.0,\n",
       " 1710.0,\n",
       " 480.0,\n",
       " 5800.0,\n",
       " 12610.0,\n",
       " 1390.0,\n",
       " 9670.0,\n",
       " 3560.0,\n",
       " 1860.0,\n",
       " 290.0,\n",
       " 19360.0,\n",
       " 850.0,\n",
       " 5760.0,\n",
       " 1470.0,\n",
       " 1100.0,\n",
       " 2770.0,\n",
       " 520.0,\n",
       " 16970.0,\n",
       " 220.0,\n",
       " 3850.0,\n",
       " 4210.0,\n",
       " 290.0,\n",
       " 6360.0,\n",
       " 1650.0,\n",
       " 20260.0,\n",
       " 5140.0,\n",
       " 490.0,\n",
       " 5630.0,\n",
       " 110.0,\n",
       " 380.0,\n",
       " 6870.0,\n",
       " 300.0,\n",
       " 11680.0,\n",
       " 970.0,\n",
       " 350.0,\n",
       " 15050.0,\n",
       " 4030.0,\n",
       " 8650.0,\n",
       " 150.0,\n",
       " 190.0,\n",
       " 3150.0,\n",
       " 640.0,\n",
       " 1640.0,\n",
       " 1000.0,\n",
       " 13530.0,\n",
       " 2170.0,\n",
       " 2920.0,\n",
       " 7930.0,\n",
       " 10180.0,\n",
       " 450.0,\n",
       " 2370.0,\n",
       " 10800.0,\n",
       " 17410.0,\n",
       " 6680.0,\n",
       " 3840.0,\n",
       " 13570.0,\n",
       " 1890.0,\n",
       " 4370.0,\n",
       " 5710.0,\n",
       " 1000.0,\n",
       " 1420.0,\n",
       " 320.0,\n",
       " 610.0,\n",
       " 1110.0,\n",
       " 780.0,\n",
       " 6880.0,\n",
       " 310.0,\n",
       " 710.0,\n",
       " 1310.0,\n",
       " 4660.0,\n",
       " 70.0,\n",
       " 340.0,\n",
       " 18010.0,\n",
       " 3520.0,\n",
       " 340.0,\n",
       " 22330.0,\n",
       " 250.0,\n",
       " 330.0,\n",
       " 4630.0,\n",
       " 80.0,\n",
       " 420.0,\n",
       " 27190.0,\n",
       " 210.0,\n",
       " 540.0,\n",
       " 15340.0,\n",
       " 1180.0,\n",
       " 1140.0,\n",
       " 180.0,\n",
       " 4580.0,\n",
       " 360.0,\n",
       " 2460.0,\n",
       " 4520.0,\n",
       " 60.0,\n",
       " 1450.0,\n",
       " 420.0,\n",
       " 16180.0,\n",
       " 8480.0,\n",
       " 3640.0,\n",
       " 300.0,\n",
       " 2960.0,\n",
       " 7840.0,\n",
       " 9260.0,\n",
       " 2320.0,\n",
       " 18640.0,\n",
       " 6970.0,\n",
       " 1220.0,\n",
       " 2260.0,\n",
       " 1290.0,\n",
       " 2410.0,\n",
       " 1460.0,\n",
       " 2740.0,\n",
       " 800.0,\n",
       " 6540.0,\n",
       " 4150.0,\n",
       " 2330.0,\n",
       " 1100.0,\n",
       " 140.0,\n",
       " 3150.0,\n",
       " 210.0,\n",
       " 9580.0,\n",
       " 2300.0,\n",
       " 19840.0,\n",
       " 38630.0,\n",
       " 120.0,\n",
       " 4510.0,\n",
       " 2190.0,\n",
       " 15430.0,\n",
       " 1950.0,\n",
       " 2470.0,\n",
       " 5100.0,\n",
       " 18660.0,\n",
       " 1070.0,\n",
       " 8740.0,\n",
       " 2290.0,\n",
       " 680.0,\n",
       " 11300.0,\n",
       " 14160.0,\n",
       " 3560.0,\n",
       " 38710.0,\n",
       " 9000.0,\n",
       " 3140.0,\n",
       " 32330.0,\n",
       " 570.0,\n",
       " 210.0,\n",
       " 8140.0,\n",
       " 17500.0,\n",
       " 8400.0,\n",
       " 13140.0,\n",
       " 350.0,\n",
       " 10070.0,\n",
       " 1390.0,\n",
       " 3130.0,\n",
       " 1310.0,\n",
       " 370.0,\n",
       " 670.0,\n",
       " 1840.0,\n",
       " 3720.0,\n",
       " 4040.0,\n",
       " 90.0,\n",
       " 190.0,\n",
       " 10600.0,\n",
       " 1590.0,\n",
       " 2280.0,\n",
       " 8080.0,\n",
       " 190.0,\n",
       " 15770.0,\n",
       " 18650.0,\n",
       " 300.0,\n",
       " 120.0,\n",
       " 8090.0,\n",
       " 9360.0,\n",
       " 16490.0,\n",
       " 1490.0,\n",
       " 8880.0,\n",
       " 5290.0,\n",
       " 6360.0,\n",
       " 900.0,\n",
       " 1500.0,\n",
       " 9720.0,\n",
       " 8970.0,\n",
       " 2060.0,\n",
       " 2890.0,\n",
       " 4370.0,\n",
       " 2040.0,\n",
       " 4490.0,\n",
       " 340.0,\n",
       " 250.0,\n",
       " 13620.0,\n",
       " 2410.0,\n",
       " 6470.0,\n",
       " 2640.0,\n",
       " 1450.0,\n",
       " 5870.0,\n",
       " 8250.0,\n",
       " 1970.0,\n",
       " 4880.0,\n",
       " 11120.0,\n",
       " 1150.0,\n",
       " 15710.0,\n",
       " 160.0,\n",
       " 100.0,\n",
       " 2140.0,\n",
       " 6630.0,\n",
       " 2240.0,\n",
       " 1800.0,\n",
       " 26130.0,\n",
       " 350.0,\n",
       " 130.0,\n",
       " 4580.0,\n",
       " 1460.0,\n",
       " 210.0,\n",
       " 2260.0,\n",
       " 6690.0,\n",
       " 1600.0,\n",
       " 460.0,\n",
       " 2120.0,\n",
       " 4820.0,\n",
       " 10850.0,\n",
       " 3620.0,\n",
       " 23130.0,\n",
       " 130.0,\n",
       " 1540.0,\n",
       " 5360.0,\n",
       " 70.0,\n",
       " 9200.0,\n",
       " 5830.0,\n",
       " 4970.0,\n",
       " 1420.0,\n",
       " 1080.0,\n",
       " 8240.0,\n",
       " 5890.0,\n",
       " 1560.0,\n",
       " 840.0,\n",
       " 40.0,\n",
       " 8460.0,\n",
       " 4460.0,\n",
       " 760.0,\n",
       " 6210.0,\n",
       " 6910.0,\n",
       " 4650.0,\n",
       " 840.0,\n",
       " 1060.0,\n",
       " 1620.0,\n",
       " 250.0,\n",
       " 3530.0,\n",
       " 2880.0,\n",
       " 1270.0,\n",
       " 1250.0,\n",
       " 1460.0,\n",
       " 250.0,\n",
       " 70.0,\n",
       " 2960.0,\n",
       " 16350.0,\n",
       " 12870.0,\n",
       " 4520.0,\n",
       " 810.0,\n",
       " 30030.0,\n",
       " 13020.0,\n",
       " 910.0,\n",
       " 2300.0,\n",
       " 430.0,\n",
       " 1110.0,\n",
       " 1350.0,\n",
       " 3900.0,\n",
       " 2530.0,\n",
       " 500.0,\n",
       " 11400.0,\n",
       " 1700.0,\n",
       " 240.0,\n",
       " 340.0,\n",
       " 1510.0,\n",
       " 3970.0,\n",
       " 120.0,\n",
       " 5780.0,\n",
       " 2460.0,\n",
       " 1850.0,\n",
       " 75860.0,\n",
       " 26450.0,\n",
       " 7660.0,\n",
       " 140.0,\n",
       " 13140.0,\n",
       " 3390.0,\n",
       " 250.0,\n",
       " 34050.0,\n",
       " 1790.0,\n",
       " 44320.0,\n",
       " 4160.0,\n",
       " 520.0,\n",
       " 10890.0,\n",
       " 3110.0,\n",
       " 20390.0,\n",
       " 5260.0,\n",
       " 710.0,\n",
       " 50.0,\n",
       " 5300.0,\n",
       " 5030.0,\n",
       " 50.0,\n",
       " 14810.0,\n",
       " 140.0,\n",
       " 8300.0,\n",
       " 770.0,\n",
       " 1940.0,\n",
       " 320.0,\n",
       " 300.0,\n",
       " 7470.0,\n",
       " 2550.0,\n",
       " 2310.0,\n",
       " 14300.0,\n",
       " 3270.0,\n",
       " 2320.0,\n",
       " 2180.0,\n",
       " 2890.0,\n",
       " 14960.0,\n",
       " 660.0,\n",
       " 4680.0,\n",
       " 1740.0,\n",
       " 1150.0,\n",
       " 1260.0,\n",
       " 5470.0,\n",
       " 2780.0,\n",
       " 1610.0,\n",
       " 990.0,\n",
       " 450.0,\n",
       " 10690.0,\n",
       " 1620.0,\n",
       " 220.0,\n",
       " 13080.0,\n",
       " 820.0,\n",
       " 350.0,\n",
       " 1850.0,\n",
       " 9070.0,\n",
       " 1280.0,\n",
       " 4740.0,\n",
       " 8260.0,\n",
       " 2060.0,\n",
       " 590.0,\n",
       " 400.0,\n",
       " 1200.0,\n",
       " 11260.0,\n",
       " 20.0,\n",
       " 22490.0,\n",
       " 3330.0,\n",
       " 2510.0,\n",
       " 6900.0,\n",
       " 18610.0,\n",
       " 7160.0,\n",
       " 50.0,\n",
       " 40860.0,\n",
       " 1870.0,\n",
       " 120.0,\n",
       " 5830.0,\n",
       " 20620.0,\n",
       " 12920.0,\n",
       " 18160.0,\n",
       " 4030.0,\n",
       " 1070.0,\n",
       " 5950.0,\n",
       " 1200.0,\n",
       " 3570.0,\n",
       " 4700.0,\n",
       " 600.0,\n",
       " 990.0,\n",
       " 770.0,\n",
       " 810.0,\n",
       " 650.0,\n",
       " 7280.0,\n",
       " 1080.0,\n",
       " 250.0,\n",
       " 5020.0,\n",
       " 580.0,\n",
       " 8990.0,\n",
       " 3760.0,\n",
       " 2330.0,\n",
       " 50.0,\n",
       " 2190.0,\n",
       " 4260.0,\n",
       " 3040.0,\n",
       " 1200.0,\n",
       " 1560.0,\n",
       " 1140.0,\n",
       " 250.0,\n",
       " 3000.0,\n",
       " 3910.0,\n",
       " 1910.0,\n",
       " 14300.0,\n",
       " 1210.0,\n",
       " 700.0,\n",
       " 6540.0,\n",
       " 160.0,\n",
       " 3620.0,\n",
       " 1010.0,\n",
       " 4270.0,\n",
       " 1340.0,\n",
       " 180.0,\n",
       " 2110.0,\n",
       " 9230.0,\n",
       " 1190.0,\n",
       " 4400.0,\n",
       " 960.0,\n",
       " 50.0,\n",
       " 2270.0,\n",
       " 12700.0,\n",
       " 20970.0,\n",
       " 170.0,\n",
       " 7250.0,\n",
       " 120.0,\n",
       " 2640.0,\n",
       " 1360.0,\n",
       " 440.0,\n",
       " 250.0,\n",
       " 330.0,\n",
       " 15720.0,\n",
       " 360.0,\n",
       " 4520.0,\n",
       " 3340.0,\n",
       " 2540.0,\n",
       " 33060.0,\n",
       " 1790.0,\n",
       " 1130.0,\n",
       " 290.0,\n",
       " 150.0,\n",
       " 550.0,\n",
       " 580.0,\n",
       " 17340.0,\n",
       " 8220.0,\n",
       " 2710.0,\n",
       " 340.0,\n",
       " 10950.0,\n",
       " 10310.0,\n",
       " 2260.0,\n",
       " 350.0,\n",
       " 18370.0,\n",
       " 2070.0,\n",
       " 660.0,\n",
       " 8080.0,\n",
       " 2490.0,\n",
       " 250.0,\n",
       " 1160.0,\n",
       " 730.0,\n",
       " 3040.0,\n",
       " 8940.0,\n",
       " 9910.0,\n",
       " 1600.0,\n",
       " 5440.0,\n",
       " 30.0,\n",
       " 2330.0,\n",
       " 4080.0,\n",
       " 6920.0,\n",
       " 1170.0,\n",
       " 10740.0,\n",
       " 3970.0,\n",
       " 2180.0,\n",
       " 510.0,\n",
       " 1690.0,\n",
       " 2870.0,\n",
       " 3350.0,\n",
       " 11640.0,\n",
       " 18610.0,\n",
       " 27530.0,\n",
       " 720.0,\n",
       " 9790.0,\n",
       " 10170.0,\n",
       " 7780.0,\n",
       " 8040.0,\n",
       " 610.0,\n",
       " 530.0,\n",
       " 230.0,\n",
       " 4030.0,\n",
       " 90.0,\n",
       " 620.0,\n",
       " 7420.0,\n",
       " 2130.0,\n",
       " 14570.0,\n",
       " 1420.0,\n",
       " 200.0,\n",
       " 20390.0,\n",
       " 7520.0,\n",
       " 6930.0,\n",
       " 960.0,\n",
       " 410.0,\n",
       " 80.0,\n",
       " 520.0,\n",
       " 1590.0,\n",
       " 1200.0,\n",
       " 2140.0,\n",
       " 1070.0,\n",
       " 7860.0,\n",
       " 1680.0,\n",
       " 90.0,\n",
       " 2700.0,\n",
       " 2870.0,\n",
       " 1270.0,\n",
       " 17080.0,\n",
       " 2060.0,\n",
       " 2070.0,\n",
       " 240.0,\n",
       " 15170.0,\n",
       " 2640.0,\n",
       " 2100.0,\n",
       " 1410.0,\n",
       " 1740.0,\n",
       " 3250.0,\n",
       " 4140.0,\n",
       " 170.0,\n",
       " 620.0,\n",
       " 150.0,\n",
       " 2850.0,\n",
       " 680.0,\n",
       " 650.0,\n",
       " 20050.0,\n",
       " 2770.0,\n",
       " 18760.0,\n",
       " 15040.0,\n",
       " 100.0,\n",
       " 3030.0,\n",
       " 40.0,\n",
       " 450.0,\n",
       " 460.0,\n",
       " 550.0,\n",
       " 430.0,\n",
       " 3780.0,\n",
       " 1790.0,\n",
       " 180.0,\n",
       " 830.0,\n",
       " 1450.0,\n",
       " 8550.0,\n",
       " 80.0,\n",
       " 1910.0,\n",
       " 4140.0,\n",
       " 7830.0,\n",
       " 2900.0,\n",
       " 11470.0,\n",
       " 500.0,\n",
       " 1500.0,\n",
       " 17110.0,\n",
       " 4870.0,\n",
       " 220.0,\n",
       " 12070.0,\n",
       " 14810.0,\n",
       " 3200.0,\n",
       " 310.0,\n",
       " 1100.0,\n",
       " 8190.0,\n",
       " 15320.0,\n",
       " 3590.0,\n",
       " 50.0,\n",
       " 5650.0,\n",
       " 5900.0,\n",
       " 17540.0,\n",
       " 40540.0,\n",
       " 2050.0,\n",
       " 13990.0,\n",
       " 8980.0,\n",
       " 1190.0,\n",
       " 15270.0,\n",
       " 35280.0,\n",
       " 860.0,\n",
       " 220.0,\n",
       " 1920.0,\n",
       " 1650.0,\n",
       " 100.0,\n",
       " 5980.0,\n",
       " 2770.0,\n",
       " 6400.0,\n",
       " 11900.0,\n",
       " 4380.0,\n",
       " 6710.0,\n",
       " 1370.0,\n",
       " 17650.0,\n",
       " 4330.0,\n",
       " 45740.0,\n",
       " 2380.0,\n",
       " 3410.0,\n",
       " 8670.0,\n",
       " 650.0,\n",
       " 970.0,\n",
       " 540.0,\n",
       " 380.0,\n",
       " 13130.0,\n",
       " 50.0,\n",
       " 3450.0,\n",
       " 19780.0,\n",
       " 110.0,\n",
       " 560.0,\n",
       " 2390.0,\n",
       " 1280.0,\n",
       " 32240.0,\n",
       " 26490.0,\n",
       " 25430.0,\n",
       " 9820.0,\n",
       " 13080.0,\n",
       " 2630.0,\n",
       " 840.0,\n",
       " 100.0,\n",
       " 20640.0,\n",
       " 1850.0,\n",
       " 200.0,\n",
       " 640.0,\n",
       " 6970.0,\n",
       " 700.0,\n",
       " 8250.0,\n",
       " 340.0,\n",
       " 16990.0,\n",
       " 18160.0,\n",
       " 630.0,\n",
       " 5390.0,\n",
       " 15490.0,\n",
       " 560.0,\n",
       " 970.0,\n",
       " 290.0,\n",
       " 3210.0,\n",
       " 1530.0,\n",
       " 9770.0,\n",
       " 9070.0,\n",
       " 5950.0,\n",
       " 17280.0,\n",
       " 2710.0,\n",
       " 5090.0,\n",
       " 510.0,\n",
       " 7180.0,\n",
       " 2090.0,\n",
       " 9560.0,\n",
       " 2700.0,\n",
       " 2020.0,\n",
       " 48330.0,\n",
       " 910.0,\n",
       " 1760.0,\n",
       " 2100.0,\n",
       " 24770.0,\n",
       " 260.0,\n",
       " 3870.0,\n",
       " 18620.0,\n",
       " 12770.0,\n",
       " 9640.0,\n",
       " 410.0,\n",
       " 2590.0,\n",
       " 1560.0,\n",
       " 24530.0,\n",
       " 590.0,\n",
       " 460.0,\n",
       " 140.0,\n",
       " 490.0,\n",
       " 720.0,\n",
       " 1650.0,\n",
       " 1700.0,\n",
       " 410.0,\n",
       " 16210.0,\n",
       " 17570.0,\n",
       " 380.0,\n",
       " 7980.0,\n",
       " 250.0,\n",
       " 3290.0,\n",
       " 110.0,\n",
       " 6320.0,\n",
       " 800.0,\n",
       " 5070.0,\n",
       " 3290.0,\n",
       " 3470.0,\n",
       " 2890.0,\n",
       " 2720.0,\n",
       " 14600.0,\n",
       " 6890.0,\n",
       " 240.0,\n",
       " 1070.0,\n",
       " 27650.0,\n",
       " 1200.0,\n",
       " 60.0,\n",
       " 2030.0,\n",
       " 7860.0,\n",
       " 8860.0,\n",
       " 190.0,\n",
       " 370.0,\n",
       " 5000.0,\n",
       " 1120.0,\n",
       " 2330.0,\n",
       " 940.0,\n",
       " 14040.0,\n",
       " 4770.0,\n",
       " 3440.0,\n",
       " 3020.0,\n",
       " 6270.0,\n",
       " 3370.0,\n",
       " 21770.0,\n",
       " 5980.0,\n",
       " 740.0,\n",
       " 2840.0,\n",
       " 21370.0,\n",
       " 1020.0,\n",
       " 2640.0,\n",
       " 9680.0,\n",
       " 21810.0,\n",
       " 1360.0,\n",
       " 230.0,\n",
       " 780.0,\n",
       " 10620.0,\n",
       " 3860.0,\n",
       " 2040.0,\n",
       " 3210.0,\n",
       " 5070.0,\n",
       " 21790.0,\n",
       " 29190.0,\n",
       " 1100.0,\n",
       " 2330.0,\n",
       " 4570.0,\n",
       " 180.0,\n",
       " 30.0,\n",
       " 3200.0,\n",
       " 7550.0,\n",
       " 480.0,\n",
       " 12430.0,\n",
       " 19700.0,\n",
       " 4450.0,\n",
       " 18670.0,\n",
       " 4450.0,\n",
       " 350.0,\n",
       " 19370.0,\n",
       " 130.0,\n",
       " 190.0,\n",
       " 4150.0,\n",
       " 170.0,\n",
       " 3290.0,\n",
       " 18540.0,\n",
       " 2590.0,\n",
       " 3920.0,\n",
       " 3170.0,\n",
       " 310.0,\n",
       " 7290.0,\n",
       " 570.0,\n",
       " 90.0,\n",
       " 90.0,\n",
       " 250.0,\n",
       " 1980.0,\n",
       " 1680.0,\n",
       " 12480.0,\n",
       " 16490.0,\n",
       " 3100.0,\n",
       " 280.0,\n",
       " 2640.0,\n",
       " 650.0,\n",
       " 90.0,\n",
       " 7240.0,\n",
       " 18710.0,\n",
       " 2620.0,\n",
       " 850.0,\n",
       " 840.0,\n",
       " 2110.0,\n",
       " 280.0,\n",
       " 6420.0,\n",
       " 470.0,\n",
       " 5150.0,\n",
       " 480.0,\n",
       " 1090.0,\n",
       " 4820.0,\n",
       " 70.0,\n",
       " 1480.0,\n",
       " 15700.0,\n",
       " 6270.0,\n",
       " 5460.0,\n",
       " 22350.0,\n",
       " 580.0,\n",
       " 2810.0,\n",
       " 2820.0,\n",
       " 1340.0,\n",
       " 6470.0,\n",
       " 1200.0,\n",
       " 6860.0,\n",
       " 18020.0,\n",
       " 1670.0,\n",
       " 12480.0,\n",
       " 2220.0,\n",
       " 460.0,\n",
       " 1430.0,\n",
       " 870.0,\n",
       " 8460.0,\n",
       " 710.0,\n",
       " 6300.0,\n",
       " 19830.0,\n",
       " 390.0,\n",
       " 1690.0,\n",
       " 2330.0,\n",
       " 1420.0,\n",
       " 440.0,\n",
       " 1060.0,\n",
       " 8990.0,\n",
       " 9430.0,\n",
       " 260.0,\n",
       " 23620.0,\n",
       " 270.0,\n",
       " 110.0,\n",
       " 760.0,\n",
       " 3560.0,\n",
       " 1190.0,\n",
       " 600.0,\n",
       " 910.0,\n",
       " 1140.0,\n",
       " 14960.0,\n",
       " 330.0,\n",
       " 150.0,\n",
       " 9630.0,\n",
       " 4180.0,\n",
       " 520.0,\n",
       " 3890.0,\n",
       " 2270.0,\n",
       " 4420.0,\n",
       " 2620.0,\n",
       " 21930.0,\n",
       " 40.0,\n",
       " 440.0,\n",
       " 490.0,\n",
       " 620.0,\n",
       " 1690.0,\n",
       " 30.0,\n",
       " 1640.0,\n",
       " 20930.0,\n",
       " 1010.0,\n",
       " 2480.0,\n",
       " 3460.0,\n",
       " 2290.0,\n",
       " 6560.0,\n",
       " 2870.0,\n",
       " 5840.0,\n",
       " 780.0,\n",
       " 15140.0,\n",
       " 2230.0,\n",
       " ...]"
      ]
     },
     "execution_count": 39,
     "metadata": {},
     "output_type": "execute_result"
    }
   ],
   "source": [
    "train_store['CompetitionDistance'].tolist()"
   ]
  },
  {
   "cell_type": "code",
   "execution_count": 13,
   "metadata": {},
   "outputs": [
    {
     "data": {
      "image/png": "[encoded data removed]",
      "text/plain": [
       "<Figure size 432x288 with 1 Axes>"
      ]
     },
     "metadata": {
      "needs_background": "light"
     },
     "output_type": "display_data"
    }
   ],
   "source": [
    "sns.barplot(x='DayOfWeek', y='Sales', data=train_store).set(title='Week vs Sales')\n",
    "plt.show()"
   ]
  },
  {
   "cell_type": "code",
   "execution_count": 15,
   "metadata": {},
   "outputs": [
    {
     "data": {
      "text/plain": [
       "<AxesSubplot:xlabel='DayOfWeek', ylabel='Customers'>"
      ]
     },
     "execution_count": 15,
     "metadata": {},
     "output_type": "execute_result"
    },
    {
     "data": {
      "image/png": "[encoded data removed]",
      "text/plain": [
       "<Figure size 1200x600 with 2 Axes>"
      ]
     },
     "metadata": {},
     "output_type": "display_data"
    }
   ],
   "source": [
    "import matplotlib\n",
    "import matplotlib.pyplot as plt\n",
    "import seaborn as sns\n",
    "\n",
    "matplotlib.rc_file_defaults()\n",
    "ax1 = sns.set_style(style=None, rc=None )\n",
    "\n",
    "fig, ax1 = plt.subplots(figsize=(12,6))\n",
    "\n",
    "sns.lineplot(data = train_store['Sales'], marker='o', sort = False, ax=ax1)\n",
    "ax2 = ax1.twinx()\n",
    "\n",
    "sns.barplot(data = train_store, x='DayOfWeek', y='Customers', alpha=0.5, ax=ax2)"
   ]
  },
  {
   "cell_type": "code",
   "execution_count": null,
   "metadata": {},
   "outputs": [],
   "source": []
  }
 ],
 "metadata": {
  "interpreter": {
   "hash": "81aff91296dac732a5adb56959044b4ffd2034639e84788241dd0350f5c69226"
  },
  "kernelspec": {
   "display_name": "Python 3.9.12 ('base')",
   "language": "python",
   "name": "python3"
  },
  "language_info": {
   "codemirror_mode": {
    "name": "ipython",
    "version": 3
   },
   "file_extension": ".py",
   "mimetype": "text/x-python",
   "name": "python",
   "nbconvert_exporter": "python",
   "pygments_lexer": "ipython3",
   "version": "3.9.12"
  },
  "orig_nbformat": 4
 },
 "nbformat": 4,
 "nbformat_minor": 2
}
